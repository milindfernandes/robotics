{
 "cells": [
  {
   "cell_type": "markdown",
   "metadata": {},
   "source": [
    "## Ball Picking Challenge\n",
    "\n",
    "### Part 2: Pick and Place\n",
    "\n",
    "The aim is to program the robot for the second part of the challenge: pick up the balls and transport them to the corner. To do so, you need to reuse the abilities learnt in week 4; please feel free to reuse the code of those notebooks and exercises."
   ]
  },
  {
   "cell_type": "code",
   "execution_count": 1,
   "metadata": {
    "collapsed": false
   },
   "outputs": [
    {
     "name": "stdout",
     "output_type": "stream",
     "text": [
      "Found ROS controller /pioneer3dx_2770_ip_172_31_43_194\n"
     ]
    }
   ],
   "source": [
    "import packages.initialization\n",
    "import packages.pioneer3dx as p3dx\n",
    "p3dx.init()"
   ]
  },
  {
   "cell_type": "code",
   "execution_count": 2,
   "metadata": {
    "collapsed": false
   },
   "outputs": [],
   "source": [
    "import matplotlib.pyplot as plt\n",
    "%matplotlib inline"
   ]
  },
  {
   "cell_type": "code",
   "execution_count": 3,
   "metadata": {
    "collapsed": true
   },
   "outputs": [],
   "source": [
    "import cv2\n",
    "import numpy"
   ]
  },
  {
   "cell_type": "code",
   "execution_count": 4,
   "metadata": {
    "collapsed": true
   },
   "outputs": [],
   "source": [
    "# function to detect blue blobs\n",
    "def blue_balls():\n",
    "    hsv = cv2.cvtColor(p3dx.image, cv2.COLOR_RGB2HSV)\n",
    "    lower_blue = numpy.array([110,  50,  50])\n",
    "    upper_blue = numpy.array([130, 255, 255])\n",
    "    mask = cv2.inRange(hsv, lower_blue, upper_blue)\n",
    "    params = cv2.SimpleBlobDetector_Params()\n",
    "    params.filterByArea = True\n",
    "    params.minArea = 5\n",
    "    detector = cv2.SimpleBlobDetector(params)\n",
    "    reversemask = 255-mask\n",
    "    keypoints = detector.detect(reversemask)\n",
    "    l = []\n",
    "    for i,kp in enumerate(keypoints):\n",
    "        l.append((kp.size,) + kp.pt)\n",
    "    l.sort(key=lambda tup: tup[0], reverse=True)\n",
    "    return l"
   ]
  },
  {
   "cell_type": "code",
   "execution_count": 5,
   "metadata": {
    "collapsed": true
   },
   "outputs": [],
   "source": [
    "# function to detect the red target\n",
    "def color_blob():\n",
    "    lower = numpy.array([ 170, 100, 100])\n",
    "    upper = numpy.array([ 180, 255, 255])\n",
    "    hsv = cv2.cvtColor(p3dx.image, cv2.COLOR_RGB2HSV)\n",
    "    mask = cv2.inRange(hsv, lower, upper)\n",
    "    M = cv2.moments(mask)\n",
    "    area = M['m00']\n",
    "    if area > 0:\n",
    "        cx = int(M['m10']/area)\n",
    "        cy = int(M['m01']/area)\n",
    "    else:\n",
    "        cx = None\n",
    "        cy = None\n",
    "    return area, cx, cy"
   ]
  },
  {
   "cell_type": "code",
   "execution_count": 6,
   "metadata": {
    "collapsed": true
   },
   "outputs": [],
   "source": [
    "# to check if the ball is centered\n",
    "def is_ball_centered(cx,cy):\n",
    "    \n",
    "    if cx >= 70 and cx < 80:\n",
    "        return True\n",
    "    else:\n",
    "        return False"
   ]
  },
  {
   "cell_type": "code",
   "execution_count": 7,
   "metadata": {
    "collapsed": true
   },
   "outputs": [],
   "source": [
    "# to check if the target is centered\n",
    "def is_blob_centered():\n",
    "    area, cx, cy = color_blob()\n",
    "    if area > 0 and cx >= 70 and cx < 80:\n",
    "        return True\n",
    "        #print(\"X: %r Y: %r Area: %r\" % (cx,cy,area))\n",
    "    else:\n",
    "        return False"
   ]
  },
  {
   "cell_type": "code",
   "execution_count": 8,
   "metadata": {
    "collapsed": true
   },
   "outputs": [],
   "source": [
    "# check if the target is close enough\n",
    "def is_blob_close(tcy):\n",
    "    area, cx, cy = color_blob()\n",
    "    #print(\"Target Y: %r\" % cy)\n",
    "    if area > 0 and cy >= tcy:\n",
    "        return True\n",
    "        #print(\"Final Y: %r\" % cy)\n",
    "    else:\n",
    "        return False"
   ]
  },
  {
   "cell_type": "code",
   "execution_count": 9,
   "metadata": {
    "collapsed": true
   },
   "outputs": [],
   "source": [
    "# function to move towards the target and align\n",
    "def center_approach(vel,cy):\n",
    "    while not is_blob_centered():\n",
    "        p3dx.move(-0.5,0.5)\n",
    "    p3dx.stop()\n",
    "    print(\"---target centered\")\n",
    "    p3dx.sleep(5)\n",
    "    print(\"---approaching target\")\n",
    "    while not is_blob_close(cy):\n",
    "        p3dx.move(vel,vel)\n",
    "    p3dx.stop()\n"
   ]
  },
  {
   "cell_type": "code",
   "execution_count": 10,
   "metadata": {
    "collapsed": false
   },
   "outputs": [],
   "source": [
    "# function to get individual balls\n",
    "def get_ball(cx,cy):\n",
    "    print(\"getting ball..\")\n",
    "    p3dx.gripper(0.05,0.1)\n",
    "    #p3dx.tilt(-0.35)\n",
    "    # align the ball\n",
    "    while not is_ball_centered(cx,cy):\n",
    "        p3dx.move(-0.5,0.5)\n",
    "        b = blue_balls()\n",
    "        for ball in b:\n",
    "            cx = ball[1]\n",
    "            cy = ball[2]\n",
    "    p3dx.stop()\n",
    "    p3dx.tilt(-0.47)\n",
    "    print(\"done aligning.approaching ball\")\n",
    "    # move towards the balll\n",
    "    while not cy >= 70:\n",
    "        p3dx.move(2,2)\n",
    "        b = blue_balls()\n",
    "        for ball in b:\n",
    "            cx = ball[1]\n",
    "            cy = ball[2]\n",
    "            #print(\"Y: %f \"%(cy))\n",
    "    p3dx.stop()\n",
    "    print(\"done approaching.getting closer\")\n",
    "    # get closer to ball to pickup\n",
    "    while not is_ball_centered(cx,cy):\n",
    "        p3dx.move(-0.5,0.5)\n",
    "        b = blue_balls()\n",
    "        for ball in b:\n",
    "            cx = ball[1]\n",
    "            cy = ball[2]\n",
    "            #print(\"X: %f \"%(cx))\n",
    "    p3dx.stop()\n",
    "    p3dx.sleep(5)\n",
    "    while not cy >= 80:\n",
    "        #print(\"Y: %f \"%(cy))\n",
    "        prevcy = cy\n",
    "        p3dx.move(0.2,0.2)\n",
    "        b = blue_balls()\n",
    "        for ball in b:\n",
    "            cy = ball[2]\n",
    "    # to eliminate the blid spot of kinect when the ball is too close to segment\n",
    "    p3dx.move(0.2,0.2)\n",
    "    p3dx.sleep(6)  \n",
    "    p3dx.stop()"
   ]
  },
  {
   "cell_type": "code",
   "execution_count": 11,
   "metadata": {
    "collapsed": true
   },
   "outputs": [],
   "source": [
    "# function to grip the ball\n",
    "def grip_ball():\n",
    "    print(\"gripping ball..\")\n",
    "    p3dx.gripper(0.05,0.0)\n",
    "    p3dx.sleep(5)\n",
    "    p3dx.gripper(-0.05,0.0)"
   ]
  },
  {
   "cell_type": "code",
   "execution_count": 12,
   "metadata": {
    "collapsed": true
   },
   "outputs": [],
   "source": [
    "# function to move towards the target\n",
    "def get_target():\n",
    "    print(\"getting target..\")\n",
    "    p3dx.tilt(0.0)\n",
    "    center_approach(2,80)\n",
    "    p3dx.tilt(-0.47)\n",
    "    p3dx.sleep(3)\n",
    "    print(\"getting closer to target..\")\n",
    "    center_approach(0.5,37)\n",
    "    #print(\"test move..\")\n",
    "    # to eliminate the blid spot of kinect when the target is too close to segment\n",
    "    p3dx.move(0.3,0.3)\n",
    "    p3dx.sleep(5)\n",
    "    p3dx.move(0,0)"
   ]
  },
  {
   "cell_type": "code",
   "execution_count": 13,
   "metadata": {
    "collapsed": true
   },
   "outputs": [],
   "source": [
    "# function to place the ball and move backwards and turn\n",
    "def place_ball():\n",
    "    print(\"Placing ball..\")\n",
    "    p3dx.gripper(0.05,0.0)\n",
    "    p3dx.sleep(2)\n",
    "    p3dx.gripper(0.05,0.1)\n",
    "    p3dx.sleep(1)\n",
    "    p3dx.gripper(-0.05,0.1)\n",
    "    print(\"moving back\")\n",
    "    # move backwards and turn\n",
    "    p3dx.move(-1.0,1.0)\n",
    "    p3dx.tilt(-0.3)\n",
    "    p3dx.sleep(4)\n",
    "    p3dx.move(0,0)"
   ]
  },
  {
   "cell_type": "code",
   "execution_count": 14,
   "metadata": {
    "collapsed": false
   },
   "outputs": [
    {
     "name": "stdout",
     "output_type": "stream",
     "text": [
      "getting ball..\n",
      "done aligning.approaching ball\n",
      "done approaching.getting closer\n",
      "gripping ball..\n",
      "getting target..\n",
      "target centered\n",
      "approaching target\n",
      "getting closer to target..\n",
      "target centered\n",
      "approaching target\n",
      "Placing ball..\n",
      "moving back\n",
      "getting ball..\n",
      "done aligning.approaching ball\n",
      "done approaching.getting closer\n",
      "gripping ball..\n",
      "getting target..\n",
      "target centered\n",
      "approaching target\n",
      "getting closer to target..\n",
      "target centered\n",
      "approaching target\n",
      "Placing ball..\n",
      "moving back\n",
      "getting ball..\n",
      "done aligning.approaching ball\n",
      "done approaching.getting closer\n",
      "gripping ball..\n",
      "getting target..\n",
      "target centered\n",
      "approaching target\n",
      "getting closer to target..\n",
      "target centered\n",
      "approaching target\n",
      "Placing ball..\n",
      "moving back\n",
      "getting ball..\n",
      "done aligning.approaching ball\n",
      "done approaching.getting closer\n",
      "gripping ball..\n",
      "getting target..\n",
      "target centered\n",
      "approaching target\n",
      "getting closer to target..\n",
      "target centered\n",
      "approaching target\n",
      "Placing ball..\n",
      "moving back\n",
      "getting ball..\n",
      "done aligning.approaching ball\n",
      "done approaching.getting closer\n",
      "gripping ball..\n",
      "getting target..\n",
      "target centered\n",
      "approaching target\n",
      "getting closer to target..\n",
      "target centered\n",
      "approaching target\n",
      "Placing ball..\n",
      "moving back\n",
      "getting ball..\n",
      "done aligning.approaching ball\n",
      "done approaching.getting closer\n",
      "gripping ball..\n",
      "getting target..\n",
      "target centered\n",
      "approaching target\n",
      "getting closer to target..\n",
      "target centered\n",
      "approaching target\n",
      "Placing ball..\n",
      "moving back\n",
      "getting ball..\n",
      "done aligning.approaching ball\n"
     ]
    }
   ],
   "source": [
    "p3dx.tilt(-0.3)\n",
    "\n",
    "try:\n",
    "    while True:\n",
    "        b = blue_balls()\n",
    "        for ball in b:\n",
    "            get_ball(ball[1],ball[2])\n",
    "            grip_ball()\n",
    "            get_target()\n",
    "            place_ball()\n",
    "        p3dx.move(-1,1)\n",
    "except KeyboardInterrupt:\n",
    "    p3dx.move(0,0)\n"
   ]
  },
  {
   "cell_type": "markdown",
   "metadata": {},
   "source": [
    "---\n",
    "#### Try-a-Bot: an open source guide for robot programming\n",
    "Developed by:\n",
    "[![Robotic Intelligence Lab @ UJI](img/logo/robinlab.png \"Robotic Intelligence Lab @ UJI\")](http://robinlab.uji.es)\n",
    "\n",
    "Sponsored by:\n",
    "<table>\n",
    "<tr>\n",
    "<td style=\"border:1px solid #ffffff ;\">\n",
    "<a href=\"http://www.ieee-ras.org\"><img src=\"img/logo/ras.png\"></a>\n",
    "</td>\n",
    "<td style=\"border:1px solid #ffffff ;\">\n",
    "<a href=\"http://www.cyberbotics.com\"><img src=\"img/logo/cyberbotics.png\"></a>\n",
    "</td>\n",
    "<td style=\"border:1px solid #ffffff ;\">\n",
    "<a href=\"http://www.theconstructsim.com\"><img src=\"img/logo/theconstruct.png\"></a>\n",
    "</td>\n",
    "</tr>\n",
    "</table>\n",
    "\n",
    "Follow us:\n",
    "<table>\n",
    "<tr>\n",
    "<td style=\"border:1px solid #ffffff ;\">\n",
    "<a href=\"https://www.facebook.com/RobotProgrammingNetwork\"><img src=\"img/logo/facebook.png\"></a>\n",
    "</td>\n",
    "<td style=\"border:1px solid #ffffff ;\">\n",
    "<a href=\"https://www.youtube.com/user/robotprogrammingnet\"><img src=\"img/logo/youtube.png\"></a>\n",
    "</td>\n",
    "</tr>\n",
    "</table>"
   ]
  }
 ],
 "metadata": {
  "kernelspec": {
   "display_name": "Python 2",
   "language": "python",
   "name": "python2"
  },
  "language_info": {
   "codemirror_mode": {
    "name": "ipython",
    "version": 2
   },
   "file_extension": ".py",
   "mimetype": "text/x-python",
   "name": "python",
   "nbconvert_exporter": "python",
   "pygments_lexer": "ipython2",
   "version": "2.7.11"
  }
 },
 "nbformat": 4,
 "nbformat_minor": 0
}
