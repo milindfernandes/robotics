{
 "cells": [
  {
   "cell_type": "markdown",
   "metadata": {},
   "source": [
    "## Ball Picking Challenge\n",
    "\n",
    "### Part 1: Navigation\n",
    "\n",
    "The aim is to program the robot for the first part of the challenge: follow the line from the beginning to the destination point. To do so, you need to reuse the abilities learnt in weeks 1-3; please feel free to reuse the code of those notebooks and exercises."
   ]
  },
  {
   "cell_type": "code",
   "execution_count": 211,
   "metadata": {
    "collapsed": false
   },
   "outputs": [],
   "source": [
    "from packages import initialization\n",
    "from packages import pioneer3dx as p3dx\n",
    "import cv2\n",
    "import numpy"
   ]
  },
  {
   "cell_type": "code",
   "execution_count": 212,
   "metadata": {
    "collapsed": false
   },
   "outputs": [
    {
     "name": "stdout",
     "output_type": "stream",
     "text": [
      "Found ROS controller /pioneer3dx_29234_ip_172_31_47_109\n"
     ]
    }
   ],
   "source": [
    "p3dx.init()"
   ]
  },
  {
   "cell_type": "code",
   "execution_count": 213,
   "metadata": {
    "collapsed": false
   },
   "outputs": [],
   "source": [
    "## FUNCTIONS ##\n",
    "\n",
    "#Move robot\n",
    "def move(V_robot,w_robot):\n",
    "    r = 0.1953 / 2\n",
    "    L = 0.33\n",
    "    w_r = (2 * V_robot + L * w_robot) / (2*r)\n",
    "    w_l = (2 * V_robot - L * w_robot) / (2*r)\n",
    "    p3dx.move(w_l, w_r)\n",
    "    \n",
    "#Get distances from sonars\n",
    "def getSonars():\n",
    "    leftSide = min(p3dx.distance[0:3])\n",
    "    frontSide = min(p3dx.distance[3:5])\n",
    "    return leftSide, frontSide\n",
    "\n",
    "#Get purple or green zones centroid\n",
    "def get_centroid(image, a):\n",
    "    hsv = cv2.cvtColor(p3dx.image, cv2.COLOR_RGB2HSV)\n",
    "    \n",
    "    #Green has preference\n",
    "    lower_green = numpy.array([60, 100, 50])\n",
    "    upper_green = numpy.array([80, 255, 255])\n",
    "    mask = cv2.inRange(hsv, lower_green, upper_green)\n",
    "    mask[0:a, 0:150] = 0\n",
    "    M = cv2.moments(mask)\n",
    "    area = M['m00']\n",
    "    \n",
    "    #If green is not detected, look for purple\n",
    "    if area == 0 :\n",
    "        lower_purple = numpy.array([140, 100, 50])\n",
    "        upper_purple = numpy.array([160, 255, 250])\n",
    "        mask = cv2.inRange(hsv, lower_purple, upper_purple)\n",
    "        mask[0:a, 0:150] = 0\n",
    "        M = cv2.moments(mask)\n",
    "        area = M['m00']\n",
    "    \n",
    "    if area > 0:                   #If area > 0 means that green or purple has been detected\n",
    "        cx = int(M['m10']/area)\n",
    "        cy = int(M['m01']/area)\n",
    "    else:                          #If area == 0 means that no green or purple was detected\n",
    "        cx = 0\n",
    "        cy = 0\n",
    "        \n",
    "    return area, cx, cy\n",
    "\n",
    "#Follow the line\n",
    "def follow_line():\n",
    "    a = 80 #Initial mask range [0,80]\n",
    "    print('Following the line')\n",
    "    while not is_obstacle_detected():\n",
    "        area, cx, cy = get_centroid(p3dx.image, a) #\"a\" will determine the mask range [0:a] \n",
    "        width = p3dx.image.shape[1]\n",
    "        linear = 0.2\n",
    "        Kp = 0.01\n",
    "        err = cx - (width/2)\n",
    "        angular = - Kp * err\n",
    "        if area > 0 :                  #Green or purple has been detected\n",
    "            move(linear, angular)\n",
    "            a = 80                     #Use default mask range [0,80]\n",
    "        else :\n",
    "            if a == 20 :               #If mask range was augmented before and still nothing was detected\n",
    "                move(0, 0)             #There is no more to follow -> Stop\n",
    "            else :                     #If mask wasn't augmented\n",
    "                move(linear, 0)\n",
    "                a = 20                 #Change mask range from [0,80] to [0,20]\n",
    "    print('Obstacle detected')\n",
    "\n",
    "#Detect obstacles\n",
    "def is_obstacle_detected():\n",
    "    threshold = 0.3\n",
    "    d1 = p3dx.distance[3]\n",
    "    d2 = p3dx.distance[4]\n",
    "    if d1<threshold or d2<threshold :\n",
    "        return True\n",
    "    else :\n",
    "        return False\n",
    "\n",
    "#Get close to the obstacle\n",
    "def getObstacle():\n",
    "    threshold = 0.3\n",
    "    angular = 0.2\n",
    "    while p3dx.distance[0] > threshold:\n",
    "        move(0,-angular)\n",
    "    move(0,0)\n",
    "    \n",
    "#Avoid the obstacle\n",
    "def avoid_obstacle():\n",
    "    print('Avoiding the obstacle')\n",
    "    MIN_OBSTACLE_THRESHOLD = 0.2\n",
    "    MAX_OBSTACLE_THRESHOLD = 0.4\n",
    "    DEF_X_SPEED = 0.2       #Default forward velocity\n",
    "    DEF_YAW_SPEED = 0.25    #Default turning velocity\n",
    "    \n",
    "    while not is_line_detected():\n",
    "        leftSide, frontSide = getSonars()\n",
    "        \n",
    "        #By default, just move forward\n",
    "        xSpeed = DEF_X_SPEED\n",
    "        yawSpeed = DEF_YAW_SPEED\n",
    "        \n",
    "        #If we're getting too close to the obstacle with the front side...\n",
    "        if frontSide <= MIN_OBSTACLE_THRESHOLD:\n",
    "            #Go backward and turn right quickly (x4)\n",
    "            xSpeed = -0.1\n",
    "            yawSpeed = - DEF_YAW_SPEED * 4\n",
    "        else:\n",
    "            #If we're getting too close to the obstacle with the left side...\n",
    "            if leftSide <= MIN_OBSTACLE_THRESHOLD:\n",
    "                #Move slowly forward (x0.5) and turn right\n",
    "                xSpeed  = DEF_X_SPEED * 0.5\n",
    "                yawSpeed = - DEF_YAW_SPEED\n",
    "            else:\n",
    "                #If we're getting too far away from the obstacle with the left side...\n",
    "                if leftSide >= MAX_OBSTACLE_THRESHOLD:\n",
    "                    #Move slowly forward (x0.5) and turn left\n",
    "                    xSpeed  = DEF_X_SPEED * 0.5\n",
    "                    yawSpeed = DEF_YAW_SPEED\n",
    "        #Execute the movement\n",
    "        move(xSpeed,yawSpeed)\n",
    "    print('Line detected')\n",
    "    \n",
    "#Detect line to follow\n",
    "def is_line_detected():\n",
    "    area, cx, cy = get_centroid(p3dx.image, 80)\n",
    "    if area == 0 :\n",
    "        return False\n",
    "    else :\n",
    "        return True\n",
    "\n",
    "#Steer towards the line\n",
    "def getLine():\n",
    "    area, cx, cy = get_centroid(p3dx.image, 80)\n",
    "    while area > 0 :\n",
    "        move(0.2,0)\n",
    "        area, cx, cy = get_centroid(p3dx.image, 80)\n",
    "    p3dx.move(1,-1)\n",
    "    p3dx.sleep(1)"
   ]
  },
  {
   "cell_type": "code",
   "execution_count": 214,
   "metadata": {
    "collapsed": false
   },
   "outputs": [
    {
     "name": "stdout",
     "output_type": "stream",
     "text": [
      "Following the line\n",
      "Obstacle detected\n",
      "Avoiding the obstacle\n",
      "Line detected\n",
      "Following the line\n"
     ]
    }
   ],
   "source": [
    "## MAIN LOOP ##\n",
    "\n",
    "p3dx.tilt(-0.47)         #Tilt camera\n",
    "p3dx.gripper(0.05,0.1)   #Open gripper\n",
    "p3dx.sleep(0.5)          #Wait for gripper\n",
    "try:\n",
    "    while True:\n",
    "        follow_line()\n",
    "        getObstacle()\n",
    "        avoid_obstacle()\n",
    "        getLine()\n",
    "except KeyboardInterrupt:\n",
    "    move(0,0)"
   ]
  },
  {
   "cell_type": "markdown",
   "metadata": {},
   "source": [
    "---\n",
    "#### Try-a-Bot: an open source guide for robot programming\n",
    "Developed by:\n",
    "[![Robotic Intelligence Lab @ UJI](img/logo/robinlab.png \"Robotic Intelligence Lab @ UJI\")](http://robinlab.uji.es)\n",
    "\n",
    "Sponsored by:\n",
    "<table>\n",
    "<tr>\n",
    "<td style=\"border:1px solid #ffffff ;\">\n",
    "<a href=\"http://www.ieee-ras.org\"><img src=\"img/logo/ras.png\"></a>\n",
    "</td>\n",
    "<td style=\"border:1px solid #ffffff ;\">\n",
    "<a href=\"http://www.cyberbotics.com\"><img src=\"img/logo/cyberbotics.png\"></a>\n",
    "</td>\n",
    "<td style=\"border:1px solid #ffffff ;\">\n",
    "<a href=\"http://www.theconstructsim.com\"><img src=\"img/logo/theconstruct.png\"></a>\n",
    "</td>\n",
    "</tr>\n",
    "</table>\n",
    "\n",
    "Follow us:\n",
    "<table>\n",
    "<tr>\n",
    "<td style=\"border:1px solid #ffffff ;\">\n",
    "<a href=\"https://www.facebook.com/RobotProgrammingNetwork\"><img src=\"img/logo/facebook.png\"></a>\n",
    "</td>\n",
    "<td style=\"border:1px solid #ffffff ;\">\n",
    "<a href=\"https://www.youtube.com/user/robotprogrammingnet\"><img src=\"img/logo/youtube.png\"></a>\n",
    "</td>\n",
    "</tr>\n",
    "</table>"
   ]
  }
 ],
 "metadata": {
  "kernelspec": {
   "display_name": "Python 2",
   "language": "python",
   "name": "python2"
  },
  "language_info": {
   "codemirror_mode": {
    "name": "ipython",
    "version": 2
   },
   "file_extension": ".py",
   "mimetype": "text/x-python",
   "name": "python",
   "nbconvert_exporter": "python",
   "pygments_lexer": "ipython2",
   "version": "2.7.11"
  }
 },
 "nbformat": 4,
 "nbformat_minor": 0
}
