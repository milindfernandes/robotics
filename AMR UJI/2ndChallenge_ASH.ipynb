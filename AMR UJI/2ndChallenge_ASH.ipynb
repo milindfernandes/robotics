{
 "cells": [
  {
   "cell_type": "code",
   "execution_count": 282,
   "metadata": {
    "collapsed": false
   },
   "outputs": [
    {
     "name": "stdout",
     "output_type": "stream",
     "text": [
      "Found ROS controller /pioneer3dx_20756_ip_172_31_36_85\n"
     ]
    }
   ],
   "source": [
    "import packages.initialization\n",
    "import packages.pioneer3dx as p3dx\n",
    "p3dx.init()\n",
    "import cv2\n",
    "import numpy\n",
    "import matplotlib.pyplot as plt\n",
    "%matplotlib inline"
   ]
  },
  {
   "cell_type": "code",
   "execution_count": 283,
   "metadata": {
    "collapsed": true
   },
   "outputs": [],
   "source": [
    "def blue_balls():\n",
    "    hsv = cv2.cvtColor(p3dx.image, cv2.COLOR_RGB2HSV)\n",
    "    lower_blue = numpy.array([105,  30,  30])\n",
    "    upper_blue = numpy.array([130, 255, 255])\n",
    "    mask = cv2.inRange(hsv, lower_blue, upper_blue)\n",
    "    params = cv2.SimpleBlobDetector_Params()\n",
    "    params.filterByArea = True\n",
    "    params.minArea = 4\n",
    "    detector = cv2.SimpleBlobDetector(params)\n",
    "    reversemask = 255-mask\n",
    "    keypoints = detector.detect(reversemask)\n",
    "    l = []\n",
    "    for i,kp in enumerate(keypoints):\n",
    "        l.append((kp.size,) + kp.pt)\n",
    "    l.sort(key=lambda tup: tup[0], reverse=True)\n",
    "    return l"
   ]
  },
  {
   "cell_type": "code",
   "execution_count": 284,
   "metadata": {
    "collapsed": false
   },
   "outputs": [],
   "source": [
    "def Detect_Ball():\n",
    "    b = blue_balls()\n",
    "    while len(b) == 0 or not is_blob_centered():\n",
    "        p3dx.move(-0.5,0.5)\n",
    "        b = blue_balls()\n",
    "    p3dx.move(0,0) \n",
    "    #while not is_blob_centered():\n",
    "         #p3dx.move(-0.5,0.5)\n",
    "    #p3dx.stop()\n",
    "\n",
    "def parameters():\n",
    "    b = blue_balls()\n",
    "    if len(b) != 0:\n",
    "        Dia = b[0][0]\n",
    "        cx = b[0][1]\n",
    "        cy = b[0][2] \n",
    "    else:\n",
    "        Dia = 0.1\n",
    "        cx = None\n",
    "        cy = 110\n",
    "    return Dia, cx, cy\n",
    "\n",
    "def is_blob_centered():\n",
    "    Dia, cx, cy = parameters()\n",
    "    if Dia > 0 and cx >= 70 and cx < 75:\n",
    "        return True\n",
    "    else:\n",
    "        return False\n",
    "\n",
    "def is_blob_close():\n",
    "    Dia, cx, cy = parameters()\n",
    "    if Dia > 0 and cy > 95:\n",
    "        return True\n",
    "    else:\n",
    "        return False\n",
    "    \n",
    "def Approach_Ball():\n",
    "    while not is_blob_close():\n",
    "        p3dx.move(1.5,1.5)\n",
    "    p3dx.stop() \n",
    "    \n",
    "def Pick():\n",
    "    #p3dx.tilt(-0.47)\n",
    "    #p3dx.sleep(0.3)\n",
    "    #while not is_blob_close():\n",
    "    p3dx.move(1.30,1.30)\n",
    "    p3dx.sleep(1.30)\n",
    "    p3dx.move(0,0)\n",
    "    p3dx.gripper(0.05,0.0)  # down and closed fingers\n",
    "    p3dx.sleep(1)\n",
    "    p3dx.gripper(-0.05,0.0)   # up and closed fingers\n",
    "    p3dx.sleep(1)\n",
    "\n",
    "    \n",
    "def is_red_blob_close():\n",
    "    area, cx, cy = red_color_blob()\n",
    "    if area > 20 and cy >= 91:\n",
    "        return True\n",
    "    else:\n",
    "        return False  \n",
    "    \n",
    "def red_color_blob():\n",
    "    hsv = cv2.cvtColor(p3dx.image, cv2.COLOR_RGB2HSV)\n",
    "    lower_red = numpy.array([ 0, 50, 50])   # red\n",
    "    upper_red = numpy.array([ 10, 255, 255])\n",
    "    mask = cv2.inRange(hsv, lower_red, upper_red)\n",
    "    mask[0:70,0:150] = 0\n",
    "    M = cv2.moments(mask)\n",
    "    area = M['m00']\n",
    "    if area > 0:\n",
    "        cx = int(M['m10']/area)\n",
    "        cy = int(M['m01']/area)\n",
    "    else:\n",
    "        cx = None\n",
    "        cy = None\n",
    "    return area, cx, cy\n",
    "\n",
    "def is_red_detected():\n",
    "    hsv = cv2.cvtColor(p3dx.image, cv2.COLOR_RGB2HSV)\n",
    "    lower_red = numpy.array([ 0, 100, 100])   # red\n",
    "    upper_red = numpy.array([ 10, 255, 255])\n",
    "    mask = cv2.inRange(hsv, lower_red, upper_red)\n",
    "    M = cv2.moments(mask)\n",
    "    area = M['m00']\n",
    "    if area > 0: \n",
    "        cx = int(M['m10']/area)\n",
    "        cy = int(M['m01']/area)\n",
    "        if area > 10000  and cx >= 50:\n",
    "            return True\n",
    "        else:\n",
    "            return False\n",
    "def Approach_area():    \n",
    "    while not is_red_blob_close():\n",
    "         p3dx.move(1.0,1.0)\n",
    "    p3dx.move(0,0)\n",
    "    #p3dx.tilt(-0.47)\n",
    "    #p3dx.sleep(0.5)\n",
    "    #while not is_red_blob_close():\n",
    "        #p3dx.move(1.0,1.0)\n",
    "        #p3dx.sleep(0.5)\n",
    "    #p3dx.move(0,0)        \n",
    "\n",
    "def Search_destination_area():\n",
    "    p3dx.tilt(-0.35)\n",
    "    p3dx.sleep(1)\n",
    "    while not is_red_detected():\n",
    "          p3dx.move(-0.5,0.5)\n",
    "    p3dx.move(0,0) \n",
    "    \n",
    "    \n",
    "def Release_ball():\n",
    "    p3dx.move(1.50,1.50)\n",
    "    p3dx.sleep(1.5)\n",
    "    p3dx.move(0,0) \n",
    "    p3dx.gripper(0.05,0.10)  # down and open fingers\n",
    "    p3dx.sleep(0.7)\n",
    "    p3dx.move(-2.50,-2.50)\n",
    "    p3dx.sleep(3.0)\n",
    "    p3dx.move(-1.50,1.50)\n",
    "    p3dx.sleep(1.0)\n",
    "    p3dx.move(0,0)\n",
    "        "
   ]
  },
  {
   "cell_type": "code",
   "execution_count": 285,
   "metadata": {
    "collapsed": false
   },
   "outputs": [
    {
     "ename": "Exception",
     "evalue": "The robot needs initialization - has the simulation been restarted?",
     "output_type": "error",
     "traceback": [
      "\u001b[1;31m---------------------------------------------------------------------------\u001b[0m",
      "\u001b[1;31mException\u001b[0m                                 Traceback (most recent call last)",
      "\u001b[1;32m<ipython-input-285-bf68b953420e>\u001b[0m in \u001b[0;36m<module>\u001b[1;34m()\u001b[0m\n\u001b[0;32m      5\u001b[0m         \u001b[0mp3dx\u001b[0m\u001b[1;33m.\u001b[0m\u001b[0mgripper\u001b[0m\u001b[1;33m(\u001b[0m\u001b[1;36m0.05\u001b[0m\u001b[1;33m,\u001b[0m\u001b[1;36m0.1\u001b[0m\u001b[1;33m)\u001b[0m  \u001b[1;31m# down and open fingers\u001b[0m\u001b[1;33m\u001b[0m\u001b[0m\n\u001b[0;32m      6\u001b[0m         \u001b[0mp3dx\u001b[0m\u001b[1;33m.\u001b[0m\u001b[0msleep\u001b[0m\u001b[1;33m(\u001b[0m\u001b[1;36m0.5\u001b[0m\u001b[1;33m)\u001b[0m\u001b[1;33m\u001b[0m\u001b[0m\n\u001b[1;32m----> 7\u001b[1;33m         \u001b[0mDetect_Ball\u001b[0m\u001b[1;33m(\u001b[0m\u001b[1;33m)\u001b[0m\u001b[1;33m\u001b[0m\u001b[0m\n\u001b[0m\u001b[0;32m      8\u001b[0m         \u001b[0mp3dx\u001b[0m\u001b[1;33m.\u001b[0m\u001b[0msleep\u001b[0m\u001b[1;33m(\u001b[0m\u001b[1;36m0.25\u001b[0m\u001b[1;33m)\u001b[0m\u001b[1;33m\u001b[0m\u001b[0m\n\u001b[0;32m      9\u001b[0m         \u001b[0mApproach_Ball\u001b[0m\u001b[1;33m(\u001b[0m\u001b[1;33m)\u001b[0m\u001b[1;33m\u001b[0m\u001b[0m\n",
      "\u001b[1;32m<ipython-input-284-d135ae3a30e7>\u001b[0m in \u001b[0;36mDetect_Ball\u001b[1;34m()\u001b[0m\n\u001b[0;32m      2\u001b[0m     \u001b[0mb\u001b[0m \u001b[1;33m=\u001b[0m \u001b[0mblue_balls\u001b[0m\u001b[1;33m(\u001b[0m\u001b[1;33m)\u001b[0m\u001b[1;33m\u001b[0m\u001b[0m\n\u001b[0;32m      3\u001b[0m     \u001b[1;32mwhile\u001b[0m \u001b[0mlen\u001b[0m\u001b[1;33m(\u001b[0m\u001b[0mb\u001b[0m\u001b[1;33m)\u001b[0m \u001b[1;33m==\u001b[0m \u001b[1;36m0\u001b[0m \u001b[1;32mor\u001b[0m \u001b[1;32mnot\u001b[0m \u001b[0mis_blob_centered\u001b[0m\u001b[1;33m(\u001b[0m\u001b[1;33m)\u001b[0m\u001b[1;33m:\u001b[0m\u001b[1;33m\u001b[0m\u001b[0m\n\u001b[1;32m----> 4\u001b[1;33m         \u001b[0mp3dx\u001b[0m\u001b[1;33m.\u001b[0m\u001b[0mmove\u001b[0m\u001b[1;33m(\u001b[0m\u001b[1;33m-\u001b[0m\u001b[1;36m0.5\u001b[0m\u001b[1;33m,\u001b[0m\u001b[1;36m0.5\u001b[0m\u001b[1;33m)\u001b[0m\u001b[1;33m\u001b[0m\u001b[0m\n\u001b[0m\u001b[0;32m      5\u001b[0m         \u001b[0mb\u001b[0m \u001b[1;33m=\u001b[0m \u001b[0mblue_balls\u001b[0m\u001b[1;33m(\u001b[0m\u001b[1;33m)\u001b[0m\u001b[1;33m\u001b[0m\u001b[0m\n\u001b[0;32m      6\u001b[0m     \u001b[0mp3dx\u001b[0m\u001b[1;33m.\u001b[0m\u001b[0mmove\u001b[0m\u001b[1;33m(\u001b[0m\u001b[1;36m0\u001b[0m\u001b[1;33m,\u001b[0m\u001b[1;36m0\u001b[0m\u001b[1;33m)\u001b[0m\u001b[1;33m\u001b[0m\u001b[0m\n",
      "\u001b[1;32m/home/user/.tc_webots/catkin_ws/ipython/packages/pioneer3dx.pyc\u001b[0m in \u001b[0;36mmove\u001b[1;34m(ls, rs)\u001b[0m\n\u001b[0;32m    104\u001b[0m \u001b[1;33m\u001b[0m\u001b[0m\n\u001b[0;32m    105\u001b[0m \u001b[1;33m\u001b[0m\u001b[0m\n\u001b[1;32m--> 106\u001b[1;33m         \u001b[1;32mraise\u001b[0m \u001b[0mException\u001b[0m\u001b[1;33m(\u001b[0m\u001b[1;34m'The robot needs initialization - has the simulation been restarted?'\u001b[0m\u001b[1;33m)\u001b[0m\u001b[1;33m\u001b[0m\u001b[0m\n\u001b[0m\u001b[0;32m    107\u001b[0m \u001b[1;33m\u001b[0m\u001b[0m\n\u001b[0;32m    108\u001b[0m \u001b[1;33m\u001b[0m\u001b[0m\n",
      "\u001b[1;31mException\u001b[0m: The robot needs initialization - has the simulation been restarted?"
     ]
    }
   ],
   "source": [
    "try:\n",
    "    while True:\n",
    "        p3dx.tilt(-0.35)\n",
    "        p3dx.sleep(0.5)\n",
    "        p3dx.gripper(0.05,0.1)  # down and open fingers\n",
    "        p3dx.sleep(0.5)\n",
    "        Detect_Ball()\n",
    "        p3dx.sleep(0.25)\n",
    "        Approach_Ball()\n",
    "        p3dx.sleep(0.25)\n",
    "        Pick()\n",
    "        Search_destination_area()\n",
    "        Approach_area()\n",
    "        Release_ball()\n",
    "except KeyboardInterrupt:\n",
    "    move(0,0)"
   ]
  },
  {
   "cell_type": "code",
   "execution_count": null,
   "metadata": {
    "collapsed": true
   },
   "outputs": [],
   "source": []
  }
 ],
 "metadata": {
  "kernelspec": {
   "display_name": "Python 2",
   "language": "python",
   "name": "python2"
  },
  "language_info": {
   "codemirror_mode": {
    "name": "ipython",
    "version": 2
   },
   "file_extension": ".py",
   "mimetype": "text/x-python",
   "name": "python",
   "nbconvert_exporter": "python",
   "pygments_lexer": "ipython2",
   "version": "2.7.11"
  }
 },
 "nbformat": 4,
 "nbformat_minor": 0
}
