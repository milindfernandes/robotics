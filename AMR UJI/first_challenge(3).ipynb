{
 "cells": [
  {
   "cell_type": "markdown",
   "metadata": {},
   "source": [
    "## Ball Picking Challenge\n",
    "\n",
    "### Part 1: Navigation\n",
    "\n",
    "The aim is to program the robot for the first part of the challenge: follow the line from the beginning to the destination point. To do so, you need to reuse the abilities learnt in weeks 1-3; please feel free to reuse the code of those notebooks and exercises."
   ]
  },
  {
   "cell_type": "code",
   "execution_count": 1,
   "metadata": {
    "collapsed": false
   },
   "outputs": [
    {
     "name": "stdout",
     "output_type": "stream",
     "text": [
      "Found ROS controller /pioneer3dx_12534_ip_172_31_37_35\n"
     ]
    }
   ],
   "source": [
    "from packages import initialization\n",
    "from packages import pioneer3dx as p3dx\n",
    "p3dx.init()\n",
    "import cv2\n",
    "import numpy"
   ]
  },
  {
   "cell_type": "code",
   "execution_count": 2,
   "metadata": {
    "collapsed": true
   },
   "outputs": [],
   "source": [
    "%matplotlib inline\n",
    "import matplotlib.pyplot as plt"
   ]
  },
  {
   "cell_type": "code",
   "execution_count": 3,
   "metadata": {
    "collapsed": false
   },
   "outputs": [],
   "source": [
    "# Global definitions\n",
    "kp = 0.1   # proportional gain\n",
    "DEF_X_SPEED = 0.2       # default forward velocity\n",
    "DEF_YAW_SPEED = 0.2    # default turning velocity\n",
    "MIN_WALL_THRESHOLD = 0.3  \n",
    "MAX_WALL_THRESHOLD = 0.4"
   ]
  },
  {
   "cell_type": "code",
   "execution_count": 4,
   "metadata": {
    "collapsed": true
   },
   "outputs": [],
   "source": [
    "def isEnd():\n",
    "    M = line_centroid(p3dx.image) # Moment values magenta for line near the robot\n",
    "    M2 = line_centroid2(p3dx.image) # Moment values magenta for line away from the robot, to detect gaps!\n",
    "    M3 = line_centroid_green(p3dx.image) # moment value to detect final green blob\n",
    "        \n",
    "    # if green blob detected and there is no further line then stop and break loop!\n",
    "    if M3['m00'] > 0 and M2['m00'] == 0 and M['m00']== 0:\n",
    "        print('end of track!')\n",
    "        return 1\n",
    "    else:\n",
    "        return 0"
   ]
  },
  {
   "cell_type": "code",
   "execution_count": 5,
   "metadata": {
    "collapsed": true
   },
   "outputs": [],
   "source": [
    "def is_obstacle_detected():\n",
    "    leftSide, frontSide, rightSide = getSonars()\n",
    "    # if the front sensor reading is less than 0.3m, obstacle detected\n",
    "    if frontSide < 0.3:\n",
    "        return 1\n",
    "    else:\n",
    "        return 0"
   ]
  },
  {
   "cell_type": "code",
   "execution_count": 6,
   "metadata": {
    "collapsed": false
   },
   "outputs": [],
   "source": [
    "def follow_line():\n",
    "    p3dx.tilt(-0.47) # tilt down the Kinect\n",
    "    p3dx.sleep(2) # time delay for kinect to tilt down\n",
    "    print('Following the line')\n",
    "    while not is_obstacle_detected():\n",
    "        width = 150\n",
    "        linear = 1\n",
    "        # get Moment values\n",
    "        M = line_centroid(p3dx.image) # Moment values magenta for line near the robot\n",
    "        M2 = line_centroid2(p3dx.image) # Moment values magenta for line away from the robot, to detect gaps!\n",
    "        M3 = line_centroid_green(p3dx.image) # moment value to detect final green blob\n",
    "        \n",
    "        # if green blob detected and there is no further line then stop and break loop!\n",
    "        if M3['m00'] > 0 and M2['m00'] == 0 and M['m00']== 0:\n",
    "            print('end of track!')\n",
    "            move(0,0)\n",
    "            #p3dx.sleep(10)\n",
    "            break;\n",
    "            \n",
    "        # if gap detected    \n",
    "        if M['m00'] == 0:\n",
    "            print ('gap in line!')\n",
    "            # while no line near robot but line can be seen far away\n",
    "            while M['m00'] == 0 and M2['m00'] > 0:\n",
    "                # check if its a junction with a loop !! other line of loop may be detected as line continuation!\n",
    "                if is_not_junction():\n",
    "                    # if not junction, then its a gap, keep moving!\n",
    "                    move(0.5,0)\n",
    "                else:\n",
    "                    print ('junction!!')\n",
    "                    # if junction turn right!\n",
    "                    move(0.5,-1)\n",
    "                M = line_centroid(p3dx.image)\n",
    "                M2 = line_centroid2(p3dx.image)\n",
    "        # no line nor green blob detected then keep turning to find line       \n",
    "        if M['m00'] == 0 and M2['m00'] ==0 and M3['m00']==0:\n",
    "            while M['m00'] ==0:\n",
    "                move(0,0.5)\n",
    "                M = line_centroid(p3dx.image)\n",
    "\n",
    "        cx = int(M['m10']/M['m00'])\n",
    "        cy = int(M['m01']/M['m00'])\n",
    "        # calculate error\n",
    "        err = cx - (width/2)\n",
    "        #set angular speed\n",
    "        angular = -kp*err\n",
    "        #move\n",
    "        move(linear, angular)\n",
    "    print('Obstacle detected')"
   ]
  },
  {
   "cell_type": "code",
   "execution_count": 7,
   "metadata": {
    "collapsed": true
   },
   "outputs": [],
   "source": [
    "def is_not_junction(): # check if robot is at a junction\n",
    "    hsv = cv2.cvtColor(p3dx.image,cv2.COLOR_RGB2HSV) # Convert RGB to HSV\n",
    "    lower_cyan = numpy.array([130,100,0]) # set threshold for cyan\n",
    "    upper_cyan = numpy.array([180,255,255])\n",
    "    mask1 = cv2.inRange(hsv,lower_cyan,upper_cyan) # create mask\n",
    "    mask2 = cv2.inRange(hsv,lower_cyan,upper_cyan)\n",
    "    # consider only nearest line segment and the left half\n",
    "    mask1[0:40,0:150] = 0\n",
    "    mask1[80:100,0:150] = 0 \n",
    "    mask1[0:100,50:150] = 0\n",
    "    # consider only nearest line segment and the right half\n",
    "    mask2[0:40,0:150] = 0\n",
    "    mask2[80:100,0:150] = 0\n",
    "    mask2[0:100,0:70] = 0 \n",
    "    M1 = cv2.moments(mask1)\n",
    "    M2 = cv2.moments(mask2)\n",
    "    # if moments are positive in both right and left halfs, robot is at a junction!\n",
    "    if M1['m00'] > 0 and M2['m00'] > 0:\n",
    "        return 0\n",
    "    else:\n",
    "        return 1\n"
   ]
  },
  {
   "cell_type": "code",
   "execution_count": 8,
   "metadata": {
    "collapsed": true
   },
   "outputs": [],
   "source": [
    "def getObs():\n",
    "    leftSide, frontSide, rightSide = getSonars()\n",
    "    # move forward until an obstacle is detected at the front\n",
    "    while frontSide > 0.3:       \n",
    "        move(DEF_X_SPEED,0)\n",
    "        leftSide, frontSide, rightSide = getSonars()\n",
    "    # align the robot such that the left sensor is minimum!    \n",
    "    while leftSide > MIN_WALL_THRESHOLD :\n",
    "        if frontSide < leftSide:\n",
    "            yawSpeed = -DEF_YAW_SPEED * 3\n",
    "        else:\n",
    "            yawSpeed = -DEF_YAW_SPEED\n",
    "        move(0,yawSpeed)\n",
    "        leftSide, frontSide, rightSide = getSonars()\n",
    "    #stop\n",
    "    move(0,0)\n"
   ]
  },
  {
   "cell_type": "code",
   "execution_count": 9,
   "metadata": {
    "collapsed": true
   },
   "outputs": [],
   "source": [
    "def is_line_detected():\n",
    "    M = line_centroid(p3dx.image)\n",
    "    # line is detected if the moment is greater than 0\n",
    "    if M['m00'] > 0:\n",
    "        return 1\n",
    "    else:\n",
    "        return 0"
   ]
  },
  {
   "cell_type": "code",
   "execution_count": 10,
   "metadata": {
    "collapsed": true
   },
   "outputs": [],
   "source": [
    "def follow_obs():\n",
    "    print('Following the obstacle')\n",
    "    while not is_line_detected():\n",
    "        leftSide, frontSide, rightSide = getSonars()\n",
    "        # by default, just move forward\n",
    "        xSpeed = DEF_X_SPEED\n",
    "        yawSpeed = DEF_YAW_SPEED\n",
    "        # if we're getting too close to the wall with the front side...\n",
    "        if frontSide < 0.2:\n",
    "            # go backward and turn left quickly (x4)\n",
    "            xSpeed = -0.1\n",
    "            yawSpeed = DEF_YAW_SPEED*4\n",
    "        else:\n",
    "            # if we're getting too close to the wall with the left side...\n",
    "            if leftSide < MIN_WALL_THRESHOLD:\n",
    "                #print('rightSide < MIN_WALL_THRESHOLD')\n",
    "                #print (\"%r\" %rightSide)\n",
    "                # move slowly forward (x0.5) and turn left\n",
    "                xSpeed  = DEF_X_SPEED * 0.5\n",
    "                yawSpeed = -DEF_YAW_SPEED\n",
    "            else:\n",
    "                # if we're getting too far away from the wall with the left side...\n",
    "                if leftSide > MAX_WALL_THRESHOLD:\n",
    "                    #print('rightSide > MAX_WALL_THRESHOLD')\n",
    "                    # move slowly forward (x0.5) and turn right\n",
    "                    xSpeed  = DEF_X_SPEED * 0.5\n",
    "                    yawSpeed = DEF_YAW_SPEED\n",
    "        # Move the robot\n",
    "        move(xSpeed,yawSpeed)\n",
    "    move(0,0)\n",
    "    print('Line detected')"
   ]
  },
  {
   "cell_type": "code",
   "execution_count": 11,
   "metadata": {
    "collapsed": true
   },
   "outputs": [],
   "source": [
    "def getLine():\n",
    "    M = line_centroid(p3dx.image)\n",
    "    cx = int(M['m10']/M['m00'])\n",
    "    cy = int(M['m01']/M['m00'])\n",
    "    while cx > 30:\n",
    "        move(DEF_X_SPEED,DEF_YAW_SPEED*0.5)\n",
    "        M = line_centroid(p3dx.image)\n",
    "        cx = int(M['m10']/M['m00'])\n",
    "        cy = int(M['m01']/M['m00'])\n",
    "        print ('%r' % cx)\n",
    "        print ('%r' % cy)\n",
    "    # move little forward and align with line (always perpendicular?!)    \n",
    "    move(0.1,0)\n",
    "    p3dx.sleep(2)\n",
    "    move(0.1,-0.5)\n",
    "    #p3dx.sleep(2)\n",
    "    print ('get line over')\n",
    "    #move(0,0)\n"
   ]
  },
  {
   "cell_type": "code",
   "execution_count": 12,
   "metadata": {
    "collapsed": true
   },
   "outputs": [],
   "source": [
    "# all low level functions\n",
    "\n",
    "def getSonars():\n",
    "    leftSide = min(p3dx.distance[0:1])\n",
    "    frontSide = min(p3dx.distance[3:5])\n",
    "    rightSide = min(p3dx.distance[7:])\n",
    "    return leftSide, frontSide, rightSide\n",
    "def move(V_robot,w_robot):\n",
    "    r = 0.1953 / 2\n",
    "    L = 0.33\n",
    "    w_r = (2 * V_robot + L * w_robot) / (2*r)\n",
    "    w_l = (2 * V_robot - L * w_robot) / (2*r)\n",
    "    p3dx.move(w_l, w_r)\n",
    "def line_centroid(image):\n",
    "    hsv = cv2.cvtColor(p3dx.image,cv2.COLOR_RGB2HSV) # Convert RGB to HSV\n",
    "    lower_magenta = numpy.array([130,100,0]) # set threshold for cyan\n",
    "    upper_magenta = numpy.array([180,255,255])\n",
    "    mask = cv2.inRange(hsv,lower_magenta,upper_magenta) # create mask\n",
    "    plt.imshow(mask,cmap='gray');\n",
    "    mask[0:80,0:150] = 0 # consider only nearest line segment\n",
    "    #plt.imshow(mask)\n",
    "    M = cv2.moments(mask)\n",
    "    return M\n",
    "def line_centroid2(image):\n",
    "    hsv = cv2.cvtColor(p3dx.image,cv2.COLOR_RGB2HSV) # Convert RGB to HSV\n",
    "    lower_magenta = numpy.array([130,100,0]) # set threshold for cyan\n",
    "    upper_magenta = numpy.array([180,255,255])\n",
    "    mask = cv2.inRange(hsv,lower_magenta,upper_magenta) # create mask\n",
    "    plt.imshow(mask,cmap='gray');\n",
    "    mask[0:30,0:150] = 0\n",
    "    mask[50:,0:150] = 0 # consider only nearest line segment\n",
    "    #plt.imshow(mask)\n",
    "    M = cv2.moments(mask)\n",
    "    return M\n",
    "def line_centroid_green(image):\n",
    "    hsv = cv2.cvtColor(p3dx.image,cv2.COLOR_RGB2HSV) # Convert RGB to HSV\n",
    "    lower_green = numpy.array([30,100,0]) # set threshold for cyan\n",
    "    upper_green = numpy.array([80,255,255])\n",
    "    mask = cv2.inRange(hsv,lower_green,upper_green) # create mask\n",
    "    #plt.imshow(mask,cmap='gray');\n",
    "    mask[0:70,0:150] = 0 # consider only nearest line segment\n",
    "    plt.imshow(mask,cmap='gray');\n",
    "    M = cv2.moments(mask)\n",
    "    return M"
   ]
  },
  {
   "cell_type": "code",
   "execution_count": 13,
   "metadata": {
    "collapsed": false
   },
   "outputs": [],
   "source": [
    "#move(0.1,0)\n",
    "#p3dx.sleep(2)\n",
    "#move(0,0)\n",
    "#plt.imshow(p3dx.image)\n",
    "    "
   ]
  },
  {
   "cell_type": "code",
   "execution_count": 14,
   "metadata": {
    "collapsed": false
   },
   "outputs": [
    {
     "name": "stdout",
     "output_type": "stream",
     "text": [
      "Following the line\n",
      "gap in line!\n",
      "gap in line!\n",
      "junction!!\n",
      "Obstacle detected\n",
      "Following the obstacle\n",
      "Line detected\n",
      "get line over\n",
      "Following the line\n",
      "gap in line!\n",
      "end of track!\n",
      "Obstacle detected\n",
      "end of track!\n"
     ]
    },
    {
     "data": {
      "image/png": "[encoded data removed]",
      "text/plain": [
       "<matplotlib.figure.Figure at 0x7f997db0ae90>"
      ]
     },
     "metadata": {},
     "output_type": "display_data"
    }
   ],
   "source": [
    "p3dx.tilt(-0.47)\n",
    "try:\n",
    "    while True:\n",
    "        follow_line()\n",
    "        if isEnd():\n",
    "            break;\n",
    "        getObs()\n",
    "        follow_obs()\n",
    "        getLine()\n",
    "except KeyboardInterrupt:\n",
    "    move(0,0)"
   ]
  },
  {
   "cell_type": "markdown",
   "metadata": {},
   "source": [
    "---\n",
    "#### Try-a-Bot: an open source guide for robot programming\n",
    "Developed by:\n",
    "[![Robotic Intelligence Lab @ UJI](img/logo/robinlab.png \"Robotic Intelligence Lab @ UJI\")](http://robinlab.uji.es)\n",
    "\n",
    "Sponsored by:\n",
    "<table>\n",
    "<tr>\n",
    "<td style=\"border:1px solid #ffffff ;\">\n",
    "<a href=\"http://www.ieee-ras.org\"><img src=\"img/logo/ras.png\"></a>\n",
    "</td>\n",
    "<td style=\"border:1px solid #ffffff ;\">\n",
    "<a href=\"http://www.cyberbotics.com\"><img src=\"img/logo/cyberbotics.png\"></a>\n",
    "</td>\n",
    "<td style=\"border:1px solid #ffffff ;\">\n",
    "<a href=\"http://www.theconstructsim.com\"><img src=\"img/logo/theconstruct.png\"></a>\n",
    "</td>\n",
    "</tr>\n",
    "</table>\n",
    "\n",
    "Follow us:\n",
    "<table>\n",
    "<tr>\n",
    "<td style=\"border:1px solid #ffffff ;\">\n",
    "<a href=\"https://www.facebook.com/RobotProgrammingNetwork\"><img src=\"img/logo/facebook.png\"></a>\n",
    "</td>\n",
    "<td style=\"border:1px solid #ffffff ;\">\n",
    "<a href=\"https://www.youtube.com/user/robotprogrammingnet\"><img src=\"img/logo/youtube.png\"></a>\n",
    "</td>\n",
    "</tr>\n",
    "</table>"
   ]
  }
 ],
 "metadata": {
  "kernelspec": {
   "display_name": "Python 2",
   "language": "python",
   "name": "python2"
  },
  "language_info": {
   "codemirror_mode": {
    "name": "ipython",
    "version": 2
   },
   "file_extension": ".py",
   "mimetype": "text/x-python",
   "name": "python",
   "nbconvert_exporter": "python",
   "pygments_lexer": "ipython2",
   "version": "2.7.11"
  }
 },
 "nbformat": 4,
 "nbformat_minor": 0
}
