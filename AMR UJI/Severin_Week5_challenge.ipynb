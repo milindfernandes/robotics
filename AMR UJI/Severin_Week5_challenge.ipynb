{
 "cells": [
  {
   "cell_type": "markdown",
   "metadata": {},
   "source": [
    "## Ball Picking Challenge\n",
    "\n",
    "### Part 1: Navigation\n",
    "\n",
    "The aim is to program the robot for the first part of the challenge: follow the line from the beginning to the destination point. To do so, you need to reuse the abilities learnt in weeks 1-3; please feel free to reuse the code of those notebooks and exercises."
   ]
  },
  {
   "cell_type": "code",
   "execution_count": 131,
   "metadata": {
    "collapsed": false
   },
   "outputs": [
    {
     "name": "stdout",
     "output_type": "stream",
     "text": [
      "Found ROS controller /pioneer3dx_9838_ip_172_31_42_132\n"
     ]
    }
   ],
   "source": [
    "import packages.initialization\n",
    "import pioneer3dx as p3dx\n",
    "p3dx.init()\n",
    "p3dx.sleep(2)\n",
    "import cv2\n",
    "import numpy\n",
    "%matplotlib inline\n",
    "import matplotlib.pyplot as plt\n",
    "p3dx.sleep(1)"
   ]
  },
  {
   "cell_type": "code",
   "execution_count": 132,
   "metadata": {
    "collapsed": false
   },
   "outputs": [
    {
     "name": "stdout",
     "output_type": "stream",
     "text": [
      "Following the line\n",
      "Obstacle detected\n",
      "Stopped following the line\n",
      "Following the wall\n",
      "Getting Line\n",
      "Got Line\n",
      "Following the line\n",
      "Stopped following the line\n"
     ]
    }
   ],
   "source": [
    "MIN_WALL_THRESHOLD = 0.2 \n",
    "MAX_WALL_THRESHOLD = 0.3\n",
    "DEF_X_SPEED = 0.2 \n",
    "DEF_YAW_SPEED = 0.25#0.15\n",
    "lower_purple = numpy.array([135, 100, 80])\n",
    "upper_purple = numpy.array([155, 255, 255])\n",
    "lower_green = numpy.array([65, 50, 50])\n",
    "upper_green = numpy.array([135, 255, 255])\n",
    "lower_blue = numpy.array([110, 100, 100])\n",
    "upper_blue = numpy.array([130, 255, 255])\n",
    "lower_red = numpy.array([0, 100, 100])\n",
    "upper_red = numpy.array([10, 255, 255])\n",
    "WALLSIDE = 0\n",
    "GREENSIDE = 0\n",
    "\n",
    "def is_line_detected():\n",
    "    hsv = cv2.cvtColor(p3dx.image, cv2.COLOR_RGB2HSV)\n",
    "    mask = cv2.inRange(hsv, lower_purple, upper_purple)\n",
    "    #mask[0:80, 0:150] = 0 # 0:50, 0:150??\n",
    "    #plt.imshow(mask)\n",
    "    M = cv2.moments(mask)\n",
    "    if M['m00'] == 0:\n",
    "        return False\n",
    "    else:\n",
    "        return True\n",
    "\n",
    "def is_line_detected_close():\n",
    "    hsv = cv2.cvtColor(p3dx.image, cv2.COLOR_RGB2HSV)\n",
    "    mask = cv2.inRange(hsv, lower_purple, upper_purple)\n",
    "    mask[0:80, 0:150] = 0 # 0:50, 0:150??\n",
    "    #plt.imshow(mask)\n",
    "    M = cv2.moments(mask)\n",
    "    if M['m00'] == 0:\n",
    "        return False\n",
    "    else:\n",
    "        return True\n",
    "\n",
    "\n",
    "def follow_line():\n",
    "    kp = 0.1\n",
    "    width = p3dx.image.shape[1]\n",
    "    print('Following the line')\n",
    "    while not is_obstacle_detected() and not is_goal_detected():\n",
    "        if is_green_detected():\n",
    "            #print(\"green detected\")\n",
    "            area, cx, cy = green_centroid(p3dx.image, lower_green, upper_green)\n",
    "            kp = 0.3\n",
    "            linear = 1\n",
    "        else:\n",
    "            area, cx, cy = line_centroid(p3dx.image, lower_purple, upper_purple)\n",
    "            kp = 0.1\n",
    "            linear = 2\n",
    "        area, cx, cy = line_centroid(p3dx.image, lower_purple, upper_purple)\n",
    "        linear = 2\n",
    "        if area > 0:\n",
    "            err = cx - (width/2)\n",
    "            angular = -kp*err\n",
    "        else:\n",
    "            angular = 0\n",
    "        move(linear, angular)\n",
    "    move(0,0)\n",
    "    print('Stopped following the line')\n",
    "\n",
    "#find obstacle\n",
    "def is_obstacle_detected():\n",
    "    leftSide, frontSide, rightSide = getSonars()\n",
    "    if frontSide < MAX_WALL_THRESHOLD:\n",
    "        print('Obstacle detected')\n",
    "        return True\n",
    "    else:\n",
    "        return False\n",
    "\n",
    "def getSonars():\n",
    "    leftSide = min(p3dx.distance[0:3])\n",
    "    frontSide = min(p3dx.distance[3:5])\n",
    "    rightSide = min(p3dx.distance[5:])\n",
    "    return leftSide, frontSide, rightSide\n",
    "\n",
    "def is_green_detected():\n",
    "    hsv = cv2.cvtColor(p3dx.image, cv2.COLOR_RGB2HSV)\n",
    "    mask = cv2.inRange(hsv, lower_green, upper_green)\n",
    "    mask[0:50, 0:150] = 0\n",
    "    M = cv2.moments(mask)\n",
    "    area = M['m00']\n",
    "    if area > 0:\n",
    "        return True\n",
    "    else:\n",
    "        return False\n",
    "    \n",
    "def move(V_robot,w_robot):\n",
    "    r = 0.1953 / 2\n",
    "    L = 0.33\n",
    "    w_r = (2 * V_robot + L * w_robot) / (2*r)\n",
    "    w_l = (2 * V_robot - L * w_robot) / (2*r)\n",
    "    p3dx.move(w_l, w_r)\n",
    "\n",
    "def is_blob_centered(lower, upper):\n",
    "    area, cx, cy = color_blob(lower, upper)\n",
    "    if area > 0 and cx >= 70 and cx < 80:\n",
    "        return True\n",
    "    else:\n",
    "        return False\n",
    "\n",
    "def is_blob_close(lower, upper):\n",
    "    area, cx, cy = color_blob(lower, upper)\n",
    "    if area > 0 and cy >= 90:\n",
    "        return True\n",
    "    else:\n",
    "        return False\n",
    "\n",
    "def getWall():\n",
    "    l, f, r = getSonars()\n",
    "    # move forward until an obstacle is detected at the front\n",
    "    while f > MIN_WALL_THRESHOLD:\n",
    "        move(DEF_X_SPEED,0)\n",
    "        l, f, r = getSonars()\n",
    "    # turn until the wall is detected by sonar 0\n",
    "    if r > l:\n",
    "        while p3dx.distance[0] > MAX_WALL_THRESHOLD:\n",
    "            if f < l:\n",
    "                yawSpeed = -DEF_YAW_SPEED * 3\n",
    "            else:\n",
    "                yawSpeed = -DEF_YAW_SPEED\n",
    "            move(0,yawSpeed)\n",
    "            l, f, r = getSonars()\n",
    "    else:\n",
    "        while p3dx.distance[7] > MAX_WALL_THRESHOLD:\n",
    "            if f < r:\n",
    "                yawSpeed = DEF_YAW_SPEED * 3\n",
    "            else:\n",
    "                yawSpeed = DEF_YAW_SPEED\n",
    "            move(0,yawSpeed)\n",
    "            l, f, r = getSonars()\n",
    "    move(0,0)\n",
    "    \n",
    "def is_goal_detected():\n",
    "    hsv = cv2.cvtColor(p3dx.image, cv2.COLOR_RGB2HSV)\n",
    "    mask = cv2.inRange(hsv, lower_green, upper_green)\n",
    "    mask[0:50, 0:150] = 0\n",
    "    #plt.imshow(mask)\n",
    "    M = cv2.moments(mask)\n",
    "    area = M['m00']\n",
    "    #print(area)\n",
    "    if area > 700000:#746895\n",
    "        return True\n",
    "    else:\n",
    "        return False\n",
    "\n",
    "def green_centroid(image, lower, upper):\n",
    "    hsv = cv2.cvtColor(image, cv2.COLOR_RGB2HSV)\n",
    "    mask = cv2.inRange(hsv, lower, upper)\n",
    "    mask[40:100, 0:150] = 0\n",
    "    #plt.imshow(mask)\n",
    "    M = cv2.moments(mask)\n",
    "    area = M['m00']\n",
    "    if area > 0:\n",
    "        cx = int(M['m10']/area)\n",
    "        cy = int(M['m01']/area)\n",
    "    else:\n",
    "        mask = cv2.inRange(hsv, lower, upper)\n",
    "        mask[70:100, 0:150] = 0\n",
    "        M = cv2.moments(mask)\n",
    "        area = M['m00']\n",
    "        if area > 0:\n",
    "            cx = int(M['m10']/area)\n",
    "            cy = int(M['m01']/area)\n",
    "        else:\n",
    "            mask = cv2.inRange(hsv, lower, upper)\n",
    "            M = cv2.moments(mask)\n",
    "            area = M['m00']\n",
    "            if area > 0:\n",
    "                cx = int(M['m10']/area)\n",
    "                cy = int(M['m01']/area)\n",
    "            else:\n",
    "                cx = None\n",
    "                cy = None\n",
    "    return area, cx, cy\n",
    "\n",
    "def line_centroid(image, lower, upper):\n",
    "    hsv = cv2.cvtColor(image, cv2.COLOR_RGB2HSV)\n",
    "    mask = cv2.inRange(hsv, lower, upper)\n",
    "    #plt.imshow(mask,cmap='gray');\n",
    "    mask[0:80, 0:150] = 0\n",
    "    #plt.imshow(mask,cmap='gray');\n",
    "    M = cv2.moments(mask)\n",
    "    area = M['m00']\n",
    "    if area > 0:\n",
    "        cx = int(M['m10']/area)\n",
    "        cy = int(M['m01']/area)\n",
    "    else:\n",
    "        mask = cv2.inRange(hsv, lower, upper)\n",
    "        mask[0:50, 0:150] = 0\n",
    "        M = cv2.moments(mask)\n",
    "        area = M['m00']\n",
    "        if area > 0:\n",
    "            cx = int(M['m10']/area)\n",
    "            cy = int(M['m01']/area)\n",
    "        else:\n",
    "            cx = None\n",
    "            cy = None\n",
    "    return area, cx, cy\n",
    "\n",
    "def color_blob(lower, upper):\n",
    "    hsv = cv2.cvtColor(p3dx.image, cv2.COLOR_RGB2HSV)\n",
    "    mask = cv2.inRange(hsv, lower, upper)\n",
    "    M = cv2.moments(mask)\n",
    "    area = M['m00']\n",
    "    if area > 0:\n",
    "        cx = int(M['m10']/area)\n",
    "        cy = int(M['m01']/area)\n",
    "    else:\n",
    "        cx = None\n",
    "        cy = None\n",
    "    return area, cx, cy\n",
    "\n",
    "def follow_wall(WALLSIDE):\n",
    "    print('Following the wall')\n",
    "    WALLSIDE = 0 # 1 is left -1 is right\n",
    "    leftSide, frontSide, rightSide = getSonars()\n",
    "    if leftSide < rightSide:\n",
    "        WALLSIDE = 1\n",
    "    else:\n",
    "        WALLSIDE = -1\n",
    "    while not is_line_detected_close():\n",
    "        leftSide, frontSide, rightSide = getSonars()\n",
    "        # by default, just move forward\n",
    "        xSpeed = DEF_X_SPEED\n",
    "        yawSpeed = 0\n",
    "        # if we're getting too close to the wall with the front side...\n",
    "        if frontSide < MAX_WALL_THRESHOLD or (WALLSIDE == 1 and rightSide < MAX_WALL_THRESHOLD) or (WALLSIDE == -1 and leftSide < MAX_WALL_THRESHOLD) :\n",
    "            # go backward and turn right quickly (x4)\n",
    "            xSpeed = -0.1\n",
    "            yawSpeed = -DEF_YAW_SPEED * 4 * WALLSIDE\n",
    "        else:\n",
    "            # if we're getting too close to the wall with the left side...\n",
    "            if (WALLSIDE == 1 and leftSide < MIN_WALL_THRESHOLD) or (WALLSIDE == -1 and rightSide < MIN_WALL_THRESHOLD):\n",
    "                # move slowly forward (x0.5) and turn right\n",
    "                xSpeed  = DEF_X_SPEED * 0.5\n",
    "                yawSpeed = -DEF_YAW_SPEED * WALLSIDE\n",
    "            else:\n",
    "                # if we're getting too far away from the wall with the left side...\n",
    "                if (WALLSIDE == 1 and leftSide > MAX_WALL_THRESHOLD) or (WALLSIDE == -1 and rightSide > MAX_WALL_THRESHOLD):\n",
    "                    # move slowly forward (x0.5) and turn left\n",
    "                    xSpeed  = DEF_X_SPEED * 0.5\n",
    "                    yawSpeed = DEF_YAW_SPEED * WALLSIDE\n",
    "        # Move the robot\n",
    "        move(xSpeed,yawSpeed)\n",
    "    move(0,0)\n",
    "    return WALLSIDE\n",
    "    print('Line detected')\n",
    "\n",
    "def getLine(WALLSIDE):\n",
    "    print('Getting Line')\n",
    "    if WALLSIDE == 1:\n",
    "        move(0.15, -0.35) # Besides, move forward slowly\n",
    "        p3dx.sleep(numpy.pi/(2*0.35)) # Y = w * T --> T = Y/w\n",
    "    elif WALLSIDE == -1:\n",
    "        move(0.15, 0.35) # Besides, move forward slowly\n",
    "        p3dx.sleep(numpy.pi/(2*0.35)) # Y = w * T --> T = Y/w\n",
    "    WALLSIDE = 0\n",
    "    move(0,0)\n",
    "    print('Got Line')\n",
    "\n",
    "p3dx.tilt(-0.47)\n",
    "try:\n",
    "    #print(getSonars())\n",
    "    #print(is_goal_detected())\n",
    "    #plt.imshow(p3dx.image)\n",
    "    follow_line()\n",
    "    getWall()\n",
    "    getLine(follow_wall(WALLSIDE))\n",
    "    follow_line()\n",
    "    move(2,0)\n",
    "    p3dx.sleep(0.8)\n",
    "    move(0,0)\n",
    "except KeyboardInterrupt:\n",
    "    move(0,0)"
   ]
  },
  {
   "cell_type": "markdown",
   "metadata": {},
   "source": [
    "---\n",
    "#### Try-a-Bot: an open source guide for robot programming\n",
    "Developed by:\n",
    "[![Robotic Intelligence Lab @ UJI](img/logo/robinlab.png \"Robotic Intelligence Lab @ UJI\")](http://robinlab.uji.es)\n",
    "\n",
    "Sponsored by:\n",
    "<table>\n",
    "<tr>\n",
    "<td style=\"border:1px solid #ffffff ;\">\n",
    "<a href=\"http://www.ieee-ras.org\"><img src=\"img/logo/ras.png\"></a>\n",
    "</td>\n",
    "<td style=\"border:1px solid #ffffff ;\">\n",
    "<a href=\"http://www.cyberbotics.com\"><img src=\"img/logo/cyberbotics.png\"></a>\n",
    "</td>\n",
    "<td style=\"border:1px solid #ffffff ;\">\n",
    "<a href=\"http://www.theconstructsim.com\"><img src=\"img/logo/theconstruct.png\"></a>\n",
    "</td>\n",
    "</tr>\n",
    "</table>\n",
    "\n",
    "Follow us:\n",
    "<table>\n",
    "<tr>\n",
    "<td style=\"border:1px solid #ffffff ;\">\n",
    "<a href=\"https://www.facebook.com/RobotProgrammingNetwork\"><img src=\"img/logo/facebook.png\"></a>\n",
    "</td>\n",
    "<td style=\"border:1px solid #ffffff ;\">\n",
    "<a href=\"https://www.youtube.com/user/robotprogrammingnet\"><img src=\"img/logo/youtube.png\"></a>\n",
    "</td>\n",
    "</tr>\n",
    "</table>"
   ]
  },
  {
   "cell_type": "code",
   "execution_count": 117,
   "metadata": {
    "collapsed": false
   },
   "outputs": [
    {
     "name": "stdout",
     "output_type": "stream",
     "text": [
      "B\n"
     ]
    },
    {
     "data": {
      "text/plain": [
       "(112200.0, 104, 48)"
      ]
     },
     "execution_count": 117,
     "metadata": {},
     "output_type": "execute_result"
    },
    {
     "data": {
      "image/png": "[encoded data removed]",
      "text/plain": [
       "<matplotlib.figure.Figure at 0x7f0c0af0ea90>"
      ]
     },
     "metadata": {},
     "output_type": "display_data"
    }
   ],
   "source": [
    "green_centroid(p3dx.image, lower_green, upper_green)"
   ]
  },
  {
   "cell_type": "code",
   "execution_count": 116,
   "metadata": {
    "collapsed": false
   },
   "outputs": [
    {
     "name": "stdout",
     "output_type": "stream",
     "text": [
      "A\n"
     ]
    },
    {
     "data": {
      "text/plain": [
       "True"
      ]
     },
     "execution_count": 116,
     "metadata": {},
     "output_type": "execute_result"
    },
    {
     "data": {
      "image/png": "[encoded data removed]",
      "text/plain": [
       "<matplotlib.figure.Figure at 0x7f0c502b6e90>"
      ]
     },
     "metadata": {},
     "output_type": "display_data"
    }
   ],
   "source": [
    "is_green_detected()"
   ]
  },
  {
   "cell_type": "code",
   "execution_count": null,
   "metadata": {
    "collapsed": true
   },
   "outputs": [],
   "source": []
  }
 ],
 "metadata": {
  "kernelspec": {
   "display_name": "Python 3",
   "language": "python",
   "name": "python3"
  },
  "language_info": {
   "codemirror_mode": {
    "name": "ipython",
    "version": 3
   },
   "file_extension": ".py",
   "mimetype": "text/x-python",
   "name": "python",
   "nbconvert_exporter": "python",
   "pygments_lexer": "ipython3",
   "version": "3.6.0"
  }
 },
 "nbformat": 4,
 "nbformat_minor": 0
}
