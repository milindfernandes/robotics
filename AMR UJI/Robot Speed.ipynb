{
 "cells": [
  {
   "cell_type": "markdown",
   "metadata": {},
   "source": [
    "[<img align=\"right\" src=\"../img/diff_robot_240.png\" />](http://www.intechopen.com/books/advances-in-robot-navigation/conceptual-bases-of-robot-navigation-modeling-control-and-applications)\n",
    "## Exercise: Robot Speed.\n",
    "\n",
    "At the lowest level, we control the **angular** velocity of the right and left wheels $(\\omega_r, \\omega_l)$.\n",
    "\n",
    "The relationship between the angular and **linear** velocity of the wheels is:\n",
    "\n",
    "$$ V_r = \\omega_r r$$\n",
    "\n",
    "$$ V_l = \\omega_l r $$\n",
    "\n",
    "where $r$ is the radius of the wheel.\n",
    "\n",
    "The linear and angular velocities **of the robot** can then be expressed by:\n",
    "\n",
    "$$ V_{robot} = \\frac{V_r + V_l}{2} $$\n",
    "\n",
    "$$ \\omega_{robot} = \\frac{V_r - V_l}{L} $$\n",
    "\n",
    "where $L$ is the distance between the wheels.\n",
    "\n",
    "However, for programming the robot to move at a desired speed, we need to solve the **inverse problem**: given the linear and angular speed of the robot, determine the angular speed of each wheel."
   ]
  },
  {
   "cell_type": "markdown",
   "metadata": {},
   "source": [
    "#### Computing the speed of the wheels\n",
    "\n",
    "Given the previous equations, we can solve them for the angular velocities of the wheels $(\\omega_r, \\omega_l)$:\n",
    "\n",
    "$$ \\omega_r = \\frac{2 V_{robot} + L \\omega_{robot}}{2 r}$$\n",
    "\n",
    "$$ \\omega_l = \\frac{2 V_{robot} - L \\omega_{robot}}{2 r}$$\n",
    "\n",
    "Finally, you must implement the solution in a Python function that receives the robot velocities as arguments, computes the angular velocities of the wheels, and calls the motion function of the robot:"
   ]
  },
  {
   "cell_type": "code",
   "execution_count": 7,
   "metadata": {
    "collapsed": false
   },
   "outputs": [],
   "source": [
    "def move(V_robot, w_robot):\n",
    "    L=0.33\n",
    "    r=0.1953/2\n",
    "    w_r = (2*V_robot + L*w_robot)/(2*r)\n",
    "    w_l = (2*V_robot - L*w_robot)/(2*r)\n",
    "    p3dx.move(w_r, w_l)"
   ]
  },
  {
   "cell_type": "markdown",
   "metadata": {},
   "source": [
    "### Eight-shaped trajectory test\n",
    "\n",
    "<img align=\"right\" src=\"../img/eight_arrows.png\" />\n",
    "We are going to test the motion function with a eight-shaped trajectory. First, the robot will turn left at a constant linear and angular speed. After completing a circle, the robot will turn right at the same linear speed, with the oppposite angular speed. It will complete a second circle and return to the initial point, approximately.\n",
    "\n",
    "For a given circle radius $R$, you can define different linear and angular velocities, as long as this relationship is held:\n",
    "\n",
    "$$ V = \\omega R$$\n",
    "\n",
    "For example, you can choose:\n",
    "\n",
    "$$ R = 1 m$$\n",
    "\n",
    "$$ V = 0.35 m/s $$\n",
    "\n",
    "For each circle, you can stop the robot after a timeout $T$:\n",
    "\n",
    "$$ T = \\frac{2 \\pi R}{V} $$"
   ]
  },
  {
   "cell_type": "markdown",
   "metadata": {},
   "source": [
    "<img align=\"right\" src=\"../img/reload.png\" />\n",
    "#### Starting position\n",
    "For a better visual understanding of the task, it is recommended that the robot starts at the center of the room. \n",
    "\n",
    "You can easily relocate the robot there by simply restarting the simulation, by clicking on the second icon of the button bar, as depicted in the figure.\n",
    "\n",
    "#### Initialization\n",
    "After restarting the simulation, the robot needs to be initialized."
   ]
  },
  {
   "cell_type": "code",
   "execution_count": 6,
   "metadata": {
    "collapsed": false
   },
   "outputs": [],
   "source": [
    "import packages.initialization\n",
    "import pioneer3dx as p3dx\n",
    "p3dx.init()"
   ]
  },
  {
   "cell_type": "code",
   "execution_count": 8,
   "metadata": {
    "collapsed": false
   },
   "outputs": [],
   "source": [
    "# First circle\n",
    "R = 1.2\n",
    "V = 0.35\n",
    "w = V/R\n",
    "T = 2*3.1416*R/V\n",
    "move(V,w)\n",
    "p3dx.sleep(T)\n",
    "\n",
    "# Second circle\n",
    "move(V,-w)\n",
    "p3dx.sleep(T)\n",
    "# Stop the robot\n",
    "move(0,0)"
   ]
  },
  {
   "cell_type": "markdown",
   "metadata": {},
   "source": [
    "The trajectory can also be displayed:"
   ]
  },
  {
   "cell_type": "code",
   "execution_count": 9,
   "metadata": {
    "collapsed": false
   },
   "outputs": [
    {
     "data": {
      "text/plain": [
       "[<matplotlib.lines.Line2D at 0x7fe21a169410>]"
      ]
     },
     "execution_count": 9,
     "metadata": {},
     "output_type": "execute_result"
    },
    {
     "data": {
      "image/png": "[encoded data removed]",
      "text/plain": [
       "<matplotlib.figure.Figure at 0x7fe1f4875390>"
      ]
     },
     "metadata": {},
     "output_type": "display_data"
    }
   ],
   "source": [
    "%matplotlib inline\n",
    "import matplotlib.pyplot as plt\n",
    "x, y = p3dx.trajectory()\n",
    "plt.plot(x,y)"
   ]
  },
  {
   "cell_type": "markdown",
   "metadata": {},
   "source": [
    "### Congratulations!\n",
    "\n",
    "This was the last exercise of this week.\n",
    "\n",
    "Please remember to save your work, since we well reuse some code of this week for the exercises in the following modules."
   ]
  },
  {
   "cell_type": "markdown",
   "metadata": {
    "collapsed": true
   },
   "source": [
    "---\n",
    "#### Try-a-Bot: an open source guide for robot programming\n",
    "Developed by:\n",
    "[![Robotic Intelligence Lab @ UJI](img/logo/robinlab.png \"Robotic Intelligence Lab @ UJI\")](http://robinlab.uji.es)\n",
    "\n",
    "Sponsored by:\n",
    "<table>\n",
    "<tr>\n",
    "<td style=\"border:1px solid #ffffff ;\">\n",
    "<a href=\"http://www.ieee-ras.org\"><img src=\"img/logo/ras.png\"></a>\n",
    "</td>\n",
    "<td style=\"border:1px solid #ffffff ;\">\n",
    "<a href=\"http://www.cyberbotics.com\"><img src=\"img/logo/cyberbotics.png\"></a>\n",
    "</td>\n",
    "<td style=\"border:1px solid #ffffff ;\">\n",
    "<a href=\"http://www.theconstructsim.com\"><img src=\"img/logo/theconstruct.png\"></a>\n",
    "</td>\n",
    "</tr>\n",
    "</table>\n",
    "\n",
    "Follow us:\n",
    "<table>\n",
    "<tr>\n",
    "<td style=\"border:1px solid #ffffff ;\">\n",
    "<a href=\"https://www.facebook.com/RobotProgrammingNetwork\"><img src=\"img/logo/facebook.png\"></a>\n",
    "</td>\n",
    "<td style=\"border:1px solid #ffffff ;\">\n",
    "<a href=\"https://www.youtube.com/user/robotprogrammingnet\"><img src=\"img/logo/youtube.png\"></a>\n",
    "</td>\n",
    "</tr>\n",
    "</table>\n"
   ]
  }
 ],
 "metadata": {
  "kernelspec": {
   "display_name": "Python 2",
   "language": "python",
   "name": "python2"
  },
  "language_info": {
   "codemirror_mode": {
    "name": "ipython",
    "version": 2
   },
   "file_extension": ".py",
   "mimetype": "text/x-python",
   "name": "python",
   "nbconvert_exporter": "python",
   "pygments_lexer": "ipython2",
   "version": "2.7.11"
  }
 },
 "nbformat": 4,
 "nbformat_minor": 0
}
