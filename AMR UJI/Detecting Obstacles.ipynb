{
 "cells": [
  {
   "cell_type": "markdown",
   "metadata": {},
   "source": [
    "<img align=\"right\" src=\"img/threshold_240.png\" />\n",
    "# Detecting Obstacles\n",
    "\n",
    "An obstacle can be detected by comparing the values returned by the ultrasonic sensor with a predefined _**distance threshold**_.\n",
    "\n",
    "For values below that threshold, the detected obstacle is considered too close to the robot, and an action should be taken, for example stopping and/or turning, in order to avoid collision.\n",
    "\n",
    "In the example figure, the value of sensor 3 is less than the threshold (represented by the dotted circle), as signaled by the green arrow."
   ]
  },
  {
   "cell_type": "code",
   "execution_count": 19,
   "metadata": {
    "collapsed": false
   },
   "outputs": [],
   "source": [
    "import packages.initialization\n",
    "import pioneer3dx as p3dx\n",
    "p3dx.init()"
   ]
  },
  {
   "cell_type": "markdown",
   "metadata": {},
   "source": [
    "#### Exercise:\n",
    "\n",
    "Make a program for the robot to move forward until any of the front sensors (numbered 3 and 4) detects an obstacle below a given distance threshold, for example 1 meter. Use the following template code:"
   ]
  },
  {
   "cell_type": "code",
   "execution_count": 22,
   "metadata": {
    "collapsed": false,
    "scrolled": true
   },
   "outputs": [
    {
     "name": "stdout",
     "output_type": "stream",
     "text": [
      "s03: 3.940 m\n",
      "s04: 3.976 m\n",
      "s03: 0.970 m\n",
      "s04: 0.982 m\n"
     ]
    }
   ],
   "source": [
    "import ultrasonic\n",
    "print(\"s03: %.3f m\" % (p3dx.distance[3]))\n",
    "print(\"s04: %.3f m\" % (p3dx.distance[4]))\n",
    "threshold = 1\n",
    "while p3dx.distance[3] and p3dx.distance[4] > threshold:\n",
    "    p3dx.move(2.5,2.5)\n",
    "print(\"s03: %.3f m\" % (p3dx.distance[3]))\n",
    "print(\"s04: %.3f m\" % (p3dx.distance[4]))\n",
    "p3dx.stop()"
   ]
  },
  {
   "cell_type": "markdown",
   "metadata": {},
   "source": [
    "You may confirm the proper functioning of your code with the following test:"
   ]
  },
  {
   "cell_type": "code",
   "execution_count": 20,
   "metadata": {
    "collapsed": false
   },
   "outputs": [
    {
     "name": "stdout",
     "output_type": "stream",
     "text": [
      "Sensor 3: 3.871 m\n",
      "Sensor 4: 3.951 m\n"
     ]
    }
   ],
   "source": [
    "for i in range(3,5):\n",
    "    print(\"Sensor %d: %.3f m\" % (i, p3dx.distance[i]))"
   ]
  },
  {
   "cell_type": "markdown",
   "metadata": {},
   "source": [
    "And you can plot a diagram with the position of the robot in the environment, and the measurements of the ultrasonic sensors.\n",
    "\n",
    "The plot is not updated automatically as the robot moves. You need to click on the \"Refresh\" button."
   ]
  },
  {
   "cell_type": "code",
   "execution_count": 23,
   "metadata": {
    "collapsed": false
   },
   "outputs": [
    {
     "data": {
      "image/png": "[encoded data removed]",
      "text/plain": [
       "<matplotlib.figure.Figure at 0x7fc1d410fd90>"
      ]
     },
     "metadata": {},
     "output_type": "display_data"
    }
   ],
   "source": [
    "%matplotlib inline\n",
    "import ultrasonic\n",
    "ultrasonic.plot()"
   ]
  },
  {
   "cell_type": "markdown",
   "metadata": {},
   "source": [
    "Let's try the next step: [searching for free space](Searching%20Space.ipynb)."
   ]
  },
  {
   "cell_type": "markdown",
   "metadata": {
    "collapsed": true
   },
   "source": [
    "---\n",
    "#### Try-a-Bot: an open source guide for robot programming\n",
    "Developed by:\n",
    "[![Robotic Intelligence Lab @ UJI](img/logo/robinlab.png \"Robotic Intelligence Lab @ UJI\")](http://robinlab.uji.es)\n",
    "\n",
    "Sponsored by:\n",
    "<table>\n",
    "<tr>\n",
    "<td style=\"border:1px solid #ffffff ;\">\n",
    "<a href=\"http://www.ieee-ras.org\"><img src=\"img/logo/ras.png\"></a>\n",
    "</td>\n",
    "<td style=\"border:1px solid #ffffff ;\">\n",
    "<a href=\"http://www.cyberbotics.com\"><img src=\"img/logo/cyberbotics.png\"></a>\n",
    "</td>\n",
    "<td style=\"border:1px solid #ffffff ;\">\n",
    "<a href=\"http://www.theconstructsim.com\"><img src=\"img/logo/theconstruct.png\"></a>\n",
    "</td>\n",
    "</tr>\n",
    "</table>\n",
    "\n",
    "Follow us:\n",
    "<table>\n",
    "<tr>\n",
    "<td style=\"border:1px solid #ffffff ;\">\n",
    "<a href=\"https://www.facebook.com/RobotProgrammingNetwork\"><img src=\"img/logo/facebook.png\"></a>\n",
    "</td>\n",
    "<td style=\"border:1px solid #ffffff ;\">\n",
    "<a href=\"https://www.youtube.com/user/robotprogrammingnet\"><img src=\"img/logo/youtube.png\"></a>\n",
    "</td>\n",
    "</tr>\n",
    "</table>\n"
   ]
  }
 ],
 "metadata": {
  "kernelspec": {
   "display_name": "Python 2",
   "language": "python",
   "name": "python2"
  },
  "language_info": {
   "codemirror_mode": {
    "name": "ipython",
    "version": 2
   },
   "file_extension": ".py",
   "mimetype": "text/x-python",
   "name": "python",
   "nbconvert_exporter": "python",
   "pygments_lexer": "ipython2",
   "version": "2.7.11"
  }
 },
 "nbformat": 4,
 "nbformat_minor": 0
}
