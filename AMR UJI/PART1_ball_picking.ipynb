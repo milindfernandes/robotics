{
 "cells": [
  {
   "cell_type": "markdown",
   "metadata": {},
   "source": [
    "## Line Following with Obstacle Avoidance \n",
    "\n",
    "The final task of this week is a combination of the line following and obstacle detection, and wall following behaviors.\n",
    "\n",
    "The robot should follow the line until an obstacle is detected in its path. Then, the robot will turn and follow the wall at its right until the line is detected again, and it will resume the line following behavior.\n",
    "\n",
    "PLEASE RUN SIMULATION AT LEAST TWO TIMES, BECAUSE OF RANDOM NOISE SOMETIMES THERE ARE ERRORS"
   ]
  },
  {
   "cell_type": "markdown",
   "metadata": {},
   "source": [
    "This is the most complex task that we have programmed so far, thus it is a nice candidate for developing with the so-called [**top-down** approach](https://en.wikipedia.org/wiki/Top-down_and_bottom-up_design). With this methodology, we start with a high-level algorithm, and break it down into its components:\n",
    "\n",
    "    repeat forever\n",
    "        follow line until an obstacle is detected\n",
    "        get close to the wall\n",
    "        follow wall until a line is detected\n",
    "        get close to the line"
   ]
  },
  {
   "cell_type": "markdown",
   "metadata": {},
   "source": [
    "### Initialization\n",
    "First, we need to import all the required modules."
   ]
  },
  {
   "cell_type": "code",
   "execution_count": 52,
   "metadata": {
    "collapsed": false
   },
   "outputs": [
    {
     "name": "stdout",
     "output_type": "stream",
     "text": [
      "Found ROS controller /pioneer3dx_30471_ip_172_31_34_222\n"
     ]
    }
   ],
   "source": [
    "import packages.initialization\n",
    "import pioneer3dx as p3dx\n",
    "p3dx.init()\n",
    "import cv2\n",
    "import numpy\n"
   ]
  },
  {
   "cell_type": "markdown",
   "metadata": {},
   "source": [
    "### Component functions\n",
    "The first function must return `True` if an obstacle is detected in front of the robot, or `False` otherwise."
   ]
  },
  {
   "cell_type": "code",
   "execution_count": 53,
   "metadata": {
    "collapsed": true
   },
   "outputs": [],
   "source": [
    "def is_obstacle_detected():\n",
    "    umbral = 0.3\n",
    "    while min(p3dx.distance[3:5]) > umbral:\n",
    "        return False\n",
    "   \n",
    "    return True    "
   ]
  },
  {
   "cell_type": "markdown",
   "metadata": {},
   "source": [
    "The second function is the line following with incidences"
   ]
  },
  {
   "cell_type": "code",
   "execution_count": 54,
   "metadata": {
    "collapsed": false
   },
   "outputs": [],
   "source": [
    "def line_centroid(image):\n",
    "    hsv = cv2.cvtColor(p3dx.image, cv2.COLOR_RGB2HSV)\n",
    "    lower_cyan = numpy.array([130, 100, 0])\n",
    "    upper_cyan = numpy.array([180, 255, 255])\n",
    "    lower_green = numpy.array([60, 100, 0])\n",
    "    upper_green = numpy.array([100, 255, 255])\n",
    "    #mask = cv2.inRange(hsv, lower_green, upper_green)\n",
    "    mask = cv2.inRange(hsv, lower_cyan, upper_cyan) \n",
    "    mask[0:80, 0:150] = 0\n",
    "    M = cv2.moments(mask)\n",
    "    if (M['m00'] == 0):\n",
    "        cx = -1;\n",
    "        cy = -1;\n",
    "        #cgx = 0;\n",
    "    else:\n",
    "        cx = int(M['m10']/M['m00'])\n",
    "        cy = int(M['m01']/M['m00'])\n",
    "    return cx, cy \n",
    "\n",
    "def move(V_robot,w_robot):\n",
    "    r = 0.1953 / 2\n",
    "    L = 0.33\n",
    "    w_r = (2 * V_robot + L * w_robot) / (2*r)\n",
    "    w_l = (2 * V_robot - L * w_robot) / (2*r)\n",
    "    p3dx.move(w_l, w_r)\n",
    "\n",
    "def follow_line():\n",
    "    print('Following the line')\n",
    "    width = 150\n",
    "    while not is_obstacle_detected():\n",
    "        cx, cy = line_centroid(p3dx.image)\n",
    "        if (cx == -1):            \n",
    "            #print('lost line')\n",
    "            p3dx.tilt(-0.20)\n",
    "            cx, cy = line_centroid(p3dx.image)\n",
    "            if (cx == -1):\n",
    "                #print('stop')\n",
    "                move(0,0)\n",
    "            else: \n",
    "                move(1,0)          \n",
    "            \n",
    "        else:\n",
    "            if is_green_detected():\n",
    "                hsv = cv2.cvtColor(p3dx.image, cv2.COLOR_RGB2HSV)\n",
    "                lower_green = numpy.array([60, 100, 0])\n",
    "                upper_green = numpy.array([90, 255, 255])\n",
    "                maskg = cv2.inRange(hsv, lower_green, upper_green)\n",
    "                maskg[0:80, 0:150] = 0\n",
    "                Mg = cv2.moments(maskg)\n",
    "                cxg = int(Mg['m10']/Mg['m00'])\n",
    "                cyg = int(Mg['m01']/Mg['m00'])\n",
    "                cx, cy = line_centroid(p3dx.image)\n",
    "                if (cxg < 75):\n",
    "                    move(0.3,0.6)\n",
    "                    p3dx.sleep(0.8)                    \n",
    "                    cx, cy = line_centroid(p3dx.image)\n",
    "                    if (cx == -1):\n",
    "                        print('stop')\n",
    "                        move(0,0)\n",
    "                    else:\n",
    "                        move(0.3,0.6)\n",
    "                        p3dx.sleep(0.8)\n",
    "                        move(0.3,-0.4)\n",
    "                        p3dx.sleep(1.6)\n",
    "                        move(0.3,0.6)\n",
    "                        p3dx.sleep(1.6)\n",
    "                    #print('verde menor')\n",
    "                else:\n",
    "                    move(0.2,-0.4)\n",
    "                    p3dx.sleep(1.5)\n",
    "                    #print('verde mayor')\n",
    "                #print('verde')             \n",
    "             \n",
    "            else:\n",
    "                p3dx.tilt(-0.47)\n",
    "                kp = 0.01\n",
    "                cx, cy = line_centroid(p3dx.image)\n",
    "                err = cx  - width / 2 \n",
    "                linear = 0.2\n",
    "                angular = - kp * err \n",
    "                move(linear, angular)\n",
    "      \n",
    "    print('Obstacle detected')\n",
    "    p3dx.move(0,0)"
   ]
  },
  {
   "cell_type": "markdown",
   "metadata": {},
   "source": [
    "The next function was developed in the previous week: the robot turns until it is approximately parallel to the wall and follow wall."
   ]
  },
  {
   "cell_type": "code",
   "execution_count": 55,
   "metadata": {
    "collapsed": true
   },
   "outputs": [],
   "source": [
    "def getSonars():\n",
    "    rightSide = min(p3dx.distance[5:])\n",
    "    frontSide = min(p3dx.distance[3:5])\n",
    "    leftSide = min(p3dx.distance[:3])\n",
    "    return rightSide, frontSide, leftSide\n",
    "\n",
    "MIN_WALL_THRESHOLD = 0.3\n",
    "MAX_WALL_THRESHOLD = 0.4 \n",
    "\n",
    "def getWall():\n",
    "    rightSide, frontSide, leftSide = getSonars()\n",
    "\n",
    "    while p3dx.distance[0] > MAX_WALL_THRESHOLD:\n",
    "        yawSpeed = -0.5\n",
    "        move(0,yawSpeed)\n",
    "        rightSide, frontSide, leftSide = getSonars()\n",
    "    move(0,0)\n",
    "\n",
    "def follow_wall():\n",
    "    print('Following the wall')\n",
    "    while not is_line_detected():\n",
    "        rightSide, frontSide, leftSide = getSonars()\n",
    "        \n",
    "        while frontSide > 0.3 and p3dx.distance[0] > 0.2 and p3dx.distance[0] < 0.6:\n",
    "            move(0.2,0.2)\n",
    "            if p3dx.distance[0] <= 0.3:\n",
    "                yawSpeed = -0.2\n",
    "                move(0,yawSpeed)\n",
    "            else:\n",
    "                if p3dx.distance[0] >= 0.6:\n",
    "                    yawSpeed = 0.3\n",
    "                    move(0,yawSpeed)\n",
    "          \n",
    "    print('Line detected')"
   ]
  },
  {
   "cell_type": "markdown",
   "metadata": {},
   "source": [
    "The next function is checked during the wall following behavior: it must return `True` when the line is again detected, or `False` otherwise, alse detects green color."
   ]
  },
  {
   "cell_type": "code",
   "execution_count": 56,
   "metadata": {
    "collapsed": true
   },
   "outputs": [],
   "source": [
    "def is_line_detected():\n",
    "    hsv = cv2.cvtColor(p3dx.image, cv2.COLOR_RGB2HSV)\n",
    "    lower_cyan = numpy.array([130, 100, 0])\n",
    "    upper_cyan = numpy.array([180, 255, 255])\n",
    "    mask = cv2.inRange(hsv, lower_cyan, upper_cyan)\n",
    "    mask[0:80, 0:150] = 0\n",
    "    M = cv2.moments(mask)\n",
    "    if M['m00']==0:\n",
    "        return False\n",
    "    else:\n",
    "        return True\n",
    "    \n",
    "def is_green_detected():\n",
    "    hsv = cv2.cvtColor(p3dx.image, cv2.COLOR_RGB2HSV)\n",
    "    lower_green = numpy.array([60, 100, 0])\n",
    "    upper_green = numpy.array([90, 255, 255])\n",
    "    maskg = cv2.inRange(hsv, lower_green, upper_green)\n",
    "    maskg[0:80, 0:150] = 0\n",
    "    Mg = cv2.moments(maskg)\n",
    "    if Mg['m00']==0:\n",
    "        return False\n",
    "    else:\n",
    "        return True"
   ]
  },
  {
   "cell_type": "markdown",
   "metadata": {},
   "source": [
    "NEXT THREE ARE NOT NEEDED, JUST FOR CHECKING VISUAL SENSOR"
   ]
  },
  {
   "cell_type": "code",
   "execution_count": 57,
   "metadata": {
    "collapsed": false
   },
   "outputs": [
    {
     "data": {
      "image/png": "[encoded data removed]",
      "text/plain": [
       "<matplotlib.figure.Figure at 0x7f9f659bca50>"
      ]
     },
     "metadata": {},
     "output_type": "display_data"
    }
   ],
   "source": [
    "p3dx.tilt(-0.47)\n",
    "%matplotlib inline\n",
    "import matplotlib.pyplot as plt\n",
    "plt.imshow(p3dx.image);"
   ]
  },
  {
   "cell_type": "code",
   "execution_count": 58,
   "metadata": {
    "collapsed": false
   },
   "outputs": [
    {
     "data": {
      "image/png": "[encoded data removed]",
      "text/plain": [
       "<matplotlib.figure.Figure at 0x7f9f643b9710>"
      ]
     },
     "metadata": {},
     "output_type": "display_data"
    }
   ],
   "source": [
    "p3dx.tilt(-0.47)\n",
    "%matplotlib inline\n",
    "import matplotlib.pyplot as plt\n",
    "plt.imshow(p3dx.image);\n",
    "\n",
    "hsv = cv2.cvtColor(p3dx.image, cv2.COLOR_RGB2HSV)\n",
    "lower_cyan = numpy.array([130, 100, 0])\n",
    "upper_cyan = numpy.array([180, 255, 255])\n",
    "mask = cv2.inRange(hsv, lower_cyan, upper_cyan)\n",
    "lower_green = numpy.array([60, 100, 0])\n",
    "upper_green = numpy.array([90, 255, 255])\n",
    "#mask = cv2.inRange(hsv, lower_green, upper_green)\n",
    "#mask = cv2.inRange(hsv, lower_cyan, upper_cyan) + cv2.inRange(hsv, lower_green, upper_green)\n",
    "#mask[0:80, 0:150] = 0\n",
    "plt.imshow(mask,cmap='gray');\n"
   ]
  },
  {
   "cell_type": "code",
   "execution_count": 59,
   "metadata": {
    "collapsed": false
   },
   "outputs": [
    {
     "data": {
      "image/png": "[encoded data removed]",
      "text/plain": [
       "<matplotlib.figure.Figure at 0x7f9f6598b650>"
      ]
     },
     "metadata": {},
     "output_type": "display_data"
    }
   ],
   "source": [
    "mask[0:60, 0:150] = 0\n",
    "plt.imshow(mask,cmap='gray');"
   ]
  },
  {
   "cell_type": "code",
   "execution_count": null,
   "metadata": {
    "collapsed": true
   },
   "outputs": [],
   "source": []
  },
  {
   "cell_type": "markdown",
   "metadata": {},
   "source": [
    "IMPORTANT, NEXT FUNCTIONS ARE NEEDED\n",
    "Finally, a function is needed for turning the robot slightly until it is approximately parallel to the line again."
   ]
  },
  {
   "cell_type": "code",
   "execution_count": 60,
   "metadata": {
    "collapsed": true
   },
   "outputs": [],
   "source": [
    "def getLine():\n",
    "    move(0.1,-1)\n",
    "    p3dx.sleep(1)\n",
    "    move(0,0)\n",
    "    follow_line()"
   ]
  },
  {
   "cell_type": "markdown",
   "metadata": {},
   "source": [
    "### Main loop\n",
    "The main loop looks very similar to the proposed algorithm:"
   ]
  },
  {
   "cell_type": "code",
   "execution_count": 61,
   "metadata": {
    "collapsed": false
   },
   "outputs": [
    {
     "name": "stdout",
     "output_type": "stream",
     "text": [
      "Following the line\n",
      "Obstacle detected\n",
      "Following the wall\n",
      "Line detected\n",
      "Following the line\n",
      "stop\n"
     ]
    }
   ],
   "source": [
    "p3dx.tilt(-0.47)\n",
    "try:\n",
    "    while True:\n",
    "        follow_line()\n",
    "        getWall()\n",
    "        follow_wall()\n",
    "        getLine()\n",
    "except KeyboardInterrupt:\n",
    "    move(0,0)"
   ]
  },
  {
   "cell_type": "markdown",
   "metadata": {},
   "source": [
    "Did it work? Congratulations, you have completed the task of this week!"
   ]
  },
  {
   "cell_type": "markdown",
   "metadata": {},
   "source": [
    "---\n",
    "#### Try-a-Bot: an open source guide for robot programming\n",
    "Developed by:\n",
    "[![Robotic Intelligence Lab @ UJI](img/logo/robinlab.png \"Robotic Intelligence Lab @ UJI\")](http://robinlab.uji.es)\n",
    "\n",
    "Sponsored by:\n",
    "<table>\n",
    "<tr>\n",
    "<td style=\"border:1px solid #ffffff ;\">\n",
    "<a href=\"http://www.ieee-ras.org\"><img src=\"img/logo/ras.png\"></a>\n",
    "</td>\n",
    "<td style=\"border:1px solid #ffffff ;\">\n",
    "<a href=\"http://www.cyberbotics.com\"><img src=\"img/logo/cyberbotics.png\"></a>\n",
    "</td>\n",
    "<td style=\"border:1px solid #ffffff ;\">\n",
    "<a href=\"http://www.theconstructsim.com\"><img src=\"img/logo/theconstruct.png\"></a>\n",
    "</td>\n",
    "</tr>\n",
    "</table>\n",
    "\n",
    "Follow us:\n",
    "<table>\n",
    "<tr>\n",
    "<td style=\"border:1px solid #ffffff ;\">\n",
    "<a href=\"https://www.facebook.com/RobotProgrammingNetwork\"><img src=\"img/logo/facebook.png\"></a>\n",
    "</td>\n",
    "<td style=\"border:1px solid #ffffff ;\">\n",
    "<a href=\"https://www.youtube.com/user/robotprogrammingnet\"><img src=\"img/logo/youtube.png\"></a>\n",
    "</td>\n",
    "</tr>\n",
    "</table>"
   ]
  }
 ],
 "metadata": {
  "kernelspec": {
   "display_name": "Python 2",
   "language": "python",
   "name": "python2"
  },
  "language_info": {
   "codemirror_mode": {
    "name": "ipython",
    "version": 2
   },
   "file_extension": ".py",
   "mimetype": "text/x-python",
   "name": "python",
   "nbconvert_exporter": "python",
   "pygments_lexer": "ipython2",
   "version": "2.7.11"
  }
 },
 "nbformat": 4,
 "nbformat_minor": 0
}
