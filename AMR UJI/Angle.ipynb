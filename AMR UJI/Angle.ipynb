{
 "cells": [
  {
   "cell_type": "markdown",
   "metadata": {},
   "source": [
    "<img align=\"right\" src=\"../img/exercise_turning.png\" />\n",
    "## Exercise: Turn the robot for an angle.\n",
    "\n",
    "You are going to make a program for turning the robot from the initial position at the start of the simulation, in the center of the room.\n",
    "\n",
    "The robot should stop after turning 90 degrees.\n",
    "\n",
    "According to the specifications, the *diameter* of the wheels of the Pioneer 3DX robot is 195.3 mm\n",
    "and the distance between the wheels is 330 mm.\n"
   ]
  },
  {
   "cell_type": "markdown",
   "metadata": {},
   "source": [
    "<img align=\"right\" src=\"../img/reload.png\" />\n",
    "### 1. Starting position\n",
    "For a better visual understanding of the task, it is recommended that the robot starts at the center of the room. \n",
    "\n",
    "You can easily relocate the robot there by simply restarting the simulation, by clicking on the second icon of the button bar, as depicted in the figure."
   ]
  },
  {
   "cell_type": "markdown",
   "metadata": {},
   "source": [
    "### 2. Initialization\n",
    "After restarting the simulation, the robot needs to be initialized."
   ]
  },
  {
   "cell_type": "code",
   "execution_count": 9,
   "metadata": {
    "collapsed": false
   },
   "outputs": [],
   "source": [
    "import packages.initialization\n",
    "import pioneer3dx as p3dx\n",
    "p3dx.init()"
   ]
  },
  {
   "cell_type": "markdown",
   "metadata": {},
   "source": [
    "### 3. Motion code\n",
    "\n",
    "In the following program template, you must fill the gaps with the appropriate code.\n",
    "\n",
    "The idea is to compute the turned angle of one of the encoders (no matter which one) as the difference between the current and initial values, then compute the angle turned by the robot. The robot will turn as long as this second angle is lower than the target angle, then it will stop."
   ]
  },
  {
   "cell_type": "code",
   "execution_count": 10,
   "metadata": {
    "collapsed": false
   },
   "outputs": [
    {
     "name": "stdout",
     "output_type": "stream",
     "text": [
      "0.0189337863082\n",
      "0.0757407108209\n",
      "0.132550619367\n",
      "0.189361997928\n",
      "0.227236674633\n",
      "0.284049012207\n",
      "0.340861538682\n",
      "0.378736601064\n",
      "0.435549216869\n",
      "0.492361833844\n",
      "0.549174439757\n",
      "0.605987031626\n",
      "0.662799610903\n",
      "0.700674658468\n",
      "0.757487223845\n",
      "0.795362263108\n",
      "0.871112340129\n",
      "0.927924903662\n",
      "0.965799951647\n",
      "1.02261243754\n",
      "1.07942494069\n",
      "1.11729999397\n",
      "1.1741126323\n",
      "1.23092533044\n",
      "1.26880049364\n",
      "1.32561328523\n",
      "1.40136376543\n",
      "1.45817669909\n",
      "1.51498970362\n",
      "1.57180360887\n"
     ]
    }
   ],
   "source": [
    "target = 1.57      # target angle in radians\n",
    "r = 0.1953/2          # wheel radius\n",
    "L = 0.33           # axis length\n",
    "initialEncoder = p3dx.rightEncoder\n",
    "robotAngle = 0\n",
    "while robotAngle < target:\n",
    "    p3dx.move(1.0,-1.0)\n",
    "    wheelAngle = initialEncoder - p3dx.rightEncoder\n",
    "    robotAngle = 2*r*wheelAngle/L\n",
    "    print(robotAngle)\n",
    "p3dx.stop()"
   ]
  },
  {
   "cell_type": "markdown",
   "metadata": {},
   "source": [
    "#### Gentle reminder: save your work before proceeding to the next exercise!\n",
    "[Instructions for saving](Distance.ipynb#save).\n",
    "\n",
    "Next exercise: [Square Test](Square.ipynb)"
   ]
  },
  {
   "cell_type": "markdown",
   "metadata": {
    "collapsed": true
   },
   "source": [
    "---\n",
    "#### Try-a-Bot: an open source guide for robot programming\n",
    "Developed by:\n",
    "[![Robotic Intelligence Lab @ UJI](img/logo/robinlab.png \"Robotic Intelligence Lab @ UJI\")](http://robinlab.uji.es)\n",
    "\n",
    "Sponsored by:\n",
    "<table>\n",
    "<tr>\n",
    "<td style=\"border:1px solid #ffffff ;\">\n",
    "<a href=\"http://www.ieee-ras.org\"><img src=\"img/logo/ras.png\"></a>\n",
    "</td>\n",
    "<td style=\"border:1px solid #ffffff ;\">\n",
    "<a href=\"http://www.cyberbotics.com\"><img src=\"img/logo/cyberbotics.png\"></a>\n",
    "</td>\n",
    "<td style=\"border:1px solid #ffffff ;\">\n",
    "<a href=\"http://www.theconstructsim.com\"><img src=\"img/logo/theconstruct.png\"></a>\n",
    "</td>\n",
    "</tr>\n",
    "</table>\n",
    "\n",
    "Follow us:\n",
    "<table>\n",
    "<tr>\n",
    "<td style=\"border:1px solid #ffffff ;\">\n",
    "<a href=\"https://www.facebook.com/RobotProgrammingNetwork\"><img src=\"img/logo/facebook.png\"></a>\n",
    "</td>\n",
    "<td style=\"border:1px solid #ffffff ;\">\n",
    "<a href=\"https://www.youtube.com/user/robotprogrammingnet\"><img src=\"img/logo/youtube.png\"></a>\n",
    "</td>\n",
    "</tr>\n",
    "</table>\n"
   ]
  }
 ],
 "metadata": {
  "kernelspec": {
   "display_name": "Python 2",
   "language": "python",
   "name": "python2"
  },
  "language_info": {
   "codemirror_mode": {
    "name": "ipython",
    "version": 2
   },
   "file_extension": ".py",
   "mimetype": "text/x-python",
   "name": "python",
   "nbconvert_exporter": "python",
   "pygments_lexer": "ipython2",
   "version": "2.7.11"
  }
 },
 "nbformat": 4,
 "nbformat_minor": 0
}
