{
 "cells": [
  {
   "cell_type": "markdown",
   "metadata": {},
   "source": [
    "# Searching for Free Space\n",
    "\n",
    "After an obstacle is detected, the robot must turn either left or right in search for free space, and move forward again.\n",
    "\n",
    "<img align=\"right\" src=\"img/free_choice.png\" />\n",
    "Here is one possible solution:\n",
    "\n",
    "* `Find the minimum of the left sensors (0, 1, 2)`\n",
    "* `Find the minimum of the right sensors (5, 6, 7)`\n",
    "* `If the left minimum is bigger than the right minimum`\n",
    "  * `Turn left`\n",
    "* `Else`\n",
    "  * `Turn right`\n",
    "* `In any case, keep turning until both front sensors (3, 4) are bigger than the chosen minimum`\n",
    "\n",
    "In the sample figure, the robot would turn right, since the minimum of the right side sensors (green arc) is bigger than the one of the left side (red arc)."
   ]
  },
  {
   "cell_type": "code",
   "execution_count": 9,
   "metadata": {
    "collapsed": false
   },
   "outputs": [],
   "source": [
    "import packages.initialization\n",
    "import pioneer3dx as p3dx\n",
    "p3dx.init()"
   ]
  },
  {
   "cell_type": "markdown",
   "metadata": {},
   "source": [
    "#### Minimum and maximum of an array\n",
    "\n",
    "For finding the minimum and maximum of an array, you can use the [Python built-in functions min and max](https://docs.python.org/2/library/functions.html#max)."
   ]
  },
  {
   "cell_type": "code",
   "execution_count": 10,
   "metadata": {
    "collapsed": false
   },
   "outputs": [
    {
     "data": {
      "text/plain": [
       "[2.674206256866455,\n",
       " 5.128612041473389,\n",
       " 2.363323211669922,\n",
       " 3.8419189453125,\n",
       " 3.894932508468628,\n",
       " 4.44218111038208,\n",
       " 1.3802223205566406,\n",
       " 3.857700824737549]"
      ]
     },
     "execution_count": 10,
     "metadata": {},
     "output_type": "execute_result"
    }
   ],
   "source": [
    "p3dx.distance"
   ]
  },
  {
   "cell_type": "code",
   "execution_count": 11,
   "metadata": {
    "collapsed": false
   },
   "outputs": [
    {
     "data": {
      "text/plain": [
       "1.3802223205566406"
      ]
     },
     "execution_count": 11,
     "metadata": {},
     "output_type": "execute_result"
    }
   ],
   "source": [
    "min(p3dx.distance)"
   ]
  },
  {
   "cell_type": "code",
   "execution_count": 12,
   "metadata": {
    "collapsed": false
   },
   "outputs": [
    {
     "data": {
      "text/plain": [
       "4.999269485473633"
      ]
     },
     "execution_count": 12,
     "metadata": {},
     "output_type": "execute_result"
    }
   ],
   "source": [
    "max(p3dx.distance)"
   ]
  },
  {
   "cell_type": "markdown",
   "metadata": {},
   "source": [
    "You can use only some values of the array, with the [Python slice notation for lists](http://stackoverflow.com/questions/509211/explain-pythons-slice-notation):"
   ]
  },
  {
   "cell_type": "code",
   "execution_count": 13,
   "metadata": {
    "collapsed": false
   },
   "outputs": [
    {
     "data": {
      "text/plain": [
       "[2.6112892627716064, 4.999269485473633, 2.4143402576446533]"
      ]
     },
     "execution_count": 13,
     "metadata": {},
     "output_type": "execute_result"
    }
   ],
   "source": [
    "# left sensors (0,1,2)\n",
    "p3dx.distance[0:3]"
   ]
  },
  {
   "cell_type": "code",
   "execution_count": 14,
   "metadata": {
    "collapsed": false
   },
   "outputs": [
    {
     "data": {
      "text/plain": [
       "[3.8297998905181885, 3.886312961578369]"
      ]
     },
     "execution_count": 14,
     "metadata": {},
     "output_type": "execute_result"
    }
   ],
   "source": [
    "# front sensors (3,4)\n",
    "p3dx.distance[3:5]"
   ]
  },
  {
   "cell_type": "code",
   "execution_count": 15,
   "metadata": {
    "collapsed": false
   },
   "outputs": [
    {
     "data": {
      "text/plain": [
       "[4.445450305938721, 1.3896299600601196, 3.916182041168213]"
      ]
     },
     "execution_count": 15,
     "metadata": {},
     "output_type": "execute_result"
    }
   ],
   "source": [
    "# right sensors (5,6,7)\n",
    "p3dx.distance[5:]"
   ]
  },
  {
   "cell_type": "markdown",
   "metadata": {},
   "source": [
    "#### Exercise\n",
    "\n",
    "Implement the above-mentioned algorithm for turning towards free space:\n",
    "* `Find the minimum of the left sensors (0, 1, 2)`\n",
    "* `Find the minimum of the right sensors (5, 6, 7)`\n",
    "* `If the left minimum is bigger than the right minimum`\n",
    "  * `Turn left`\n",
    "* `Else`\n",
    "  * `Turn right`\n",
    "* `In any case, keep turning until both front sensors (3, 4) are bigger than the chosen minimum`"
   ]
  },
  {
   "cell_type": "code",
   "execution_count": null,
   "metadata": {
    "collapsed": false
   },
   "outputs": [
    {
     "name": "stdout",
     "output_type": "stream",
     "text": [
      "[2.6931650638580322, 5.101830959320068, 2.3876664638519287, 3.8931503295898438, 3.854666233062744, 4.473808288574219, 1.4056897163391113, 3.9031219482421875]\n",
      "2.3876664638519287\n",
      "1.4056897163391113\n",
      "3.854666233062744\n"
     ]
    }
   ],
   "source": [
    "print (\"%r\" % p3dx.distance)\n",
    "print (\"%r\" % min(p3dx.distance[0:3]))\n",
    "print (\"%r\" % min(p3dx.distance[5:]))\n",
    "print (\"%r\" % min(p3dx.distance[3:5]))\n",
    "threshold = 1\n",
    "while threshold:\n",
    "    p3dx.move(2.5,2.5)\n",
    "    if (min(p3dx.distance[0:3]) > min(p3dx.distance[5:])):\n",
    "        while (min(p3dx.distance[3:5]) < min(p3dx.distance[5:]) or min(p3dx.distance[3:5]) < 1):\n",
    "            p3dx.move(-1,1)\n",
    "    else:\n",
    "        while (min(p3dx.distance[3:5]) < min(p3dx.distance[0:3]) or min(p3dx.distance[3:5])< 1):\n",
    "            p3dx.move(1,-1)\n",
    "p3dx.stop()"
   ]
  },
  {
   "cell_type": "markdown",
   "metadata": {},
   "source": [
    "You can plot a diagram with the resulting position of the robot in the environment, and the measurements of the ultrasonic sensors."
   ]
  },
  {
   "cell_type": "code",
   "execution_count": null,
   "metadata": {
    "collapsed": false
   },
   "outputs": [],
   "source": [
    "%matplotlib inline\n",
    "import ultrasonic"
   ]
  },
  {
   "cell_type": "code",
   "execution_count": null,
   "metadata": {
    "collapsed": false
   },
   "outputs": [],
   "source": [
    "ultrasonic.plot()"
   ]
  },
  {
   "cell_type": "markdown",
   "metadata": {},
   "source": [
    "Let's put together the last two exercises in a simple application: [wandering](Wandering.ipynb)."
   ]
  },
  {
   "cell_type": "markdown",
   "metadata": {
    "collapsed": true
   },
   "source": [
    "---\n",
    "#### Try-a-Bot: an open source guide for robot programming\n",
    "Developed by:\n",
    "[![Robotic Intelligence Lab @ UJI](img/logo/robinlab.png \"Robotic Intelligence Lab @ UJI\")](http://robinlab.uji.es)\n",
    "\n",
    "Sponsored by:\n",
    "<table>\n",
    "<tr>\n",
    "<td style=\"border:1px solid #ffffff ;\">\n",
    "<a href=\"http://www.ieee-ras.org\"><img src=\"img/logo/ras.png\"></a>\n",
    "</td>\n",
    "<td style=\"border:1px solid #ffffff ;\">\n",
    "<a href=\"http://www.cyberbotics.com\"><img src=\"img/logo/cyberbotics.png\"></a>\n",
    "</td>\n",
    "<td style=\"border:1px solid #ffffff ;\">\n",
    "<a href=\"http://www.theconstructsim.com\"><img src=\"img/logo/theconstruct.png\"></a>\n",
    "</td>\n",
    "</tr>\n",
    "</table>\n",
    "\n",
    "Follow us:\n",
    "<table>\n",
    "<tr>\n",
    "<td style=\"border:1px solid #ffffff ;\">\n",
    "<a href=\"https://www.facebook.com/RobotProgrammingNetwork\"><img src=\"img/logo/facebook.png\"></a>\n",
    "</td>\n",
    "<td style=\"border:1px solid #ffffff ;\">\n",
    "<a href=\"https://www.youtube.com/user/robotprogrammingnet\"><img src=\"img/logo/youtube.png\"></a>\n",
    "</td>\n",
    "</tr>\n",
    "</table>\n"
   ]
  }
 ],
 "metadata": {
  "kernelspec": {
   "display_name": "Python 2",
   "language": "python",
   "name": "python2"
  },
  "language_info": {
   "codemirror_mode": {
    "name": "ipython",
    "version": 2
   },
   "file_extension": ".py",
   "mimetype": "text/x-python",
   "name": "python",
   "nbconvert_exporter": "python",
   "pygments_lexer": "ipython2",
   "version": "2.7.11"
  }
 },
 "nbformat": 4,
 "nbformat_minor": 0
}
